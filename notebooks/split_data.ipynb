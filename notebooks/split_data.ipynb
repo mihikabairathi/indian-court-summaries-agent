{
 "cells": [
  {
   "cell_type": "markdown",
   "id": "b92d4b4c",
   "metadata": {},
   "source": [
    "# Split Data"
   ]
  },
  {
   "cell_type": "markdown",
   "id": "caaa0f5b",
   "metadata": {},
   "source": [
    "We are given a zipped folder of 7k Indian Supreme Court court judgements and their headnotes/summaries. The folder is comprised of separate train and test folders, and in each, there are separate judgement and headnote/summary folders. The goal here is to combine the test and train data, and then divide the 7k documents evenly over 7 different CSV files, where each entry has both the judgement and summary. "
   ]
  },
  {
   "cell_type": "markdown",
   "id": "1ebe9d21",
   "metadata": {},
   "source": [
    "## Imports"
   ]
  },
  {
   "cell_type": "code",
   "execution_count": 1,
   "id": "85eae527",
   "metadata": {},
   "outputs": [],
   "source": [
    "import csv\n",
    "import os\n",
    "import pandas as pd"
   ]
  },
  {
   "cell_type": "markdown",
   "id": "c1609623",
   "metadata": {},
   "source": [
    "## Helper Methods"
   ]
  },
  {
   "cell_type": "code",
   "execution_count": 2,
   "id": "d9fe63d2",
   "metadata": {},
   "outputs": [],
   "source": [
    "def open_file(path):\n",
    "    with open(path, 'r') as file:\n",
    "        return file.read()"
   ]
  },
  {
   "cell_type": "code",
   "execution_count": 3,
   "id": "5441f0eb",
   "metadata": {},
   "outputs": [],
   "source": [
    "def combine_test_and_train():\n",
    "    content = []\n",
    "    for path in os.listdir('../data/original_data'):\n",
    "        if not path.endswith('data'):\n",
    "            continue\n",
    "        for file_name in os.listdir(f'../data/original_data/{path}/judgement'):\n",
    "            if not file_name.endswith('.txt'):\n",
    "                continue\n",
    "            judgement = open_file(f'../data/original_data/{path}/judgement/{file_name}')\n",
    "            headnote = open_file(f'../data/original_data/{path}/summary/{file_name}')\n",
    "            content.append({'judgement': judgement, 'headnote': headnote})\n",
    "        \n",
    "    return content"
   ]
  },
  {
   "cell_type": "markdown",
   "id": "d98463e2",
   "metadata": {},
   "source": [
    "## Analyze Data"
   ]
  },
  {
   "cell_type": "code",
   "execution_count": 4,
   "id": "5fffb722",
   "metadata": {},
   "outputs": [
    {
     "data": {
      "text/html": [
       "<div>\n",
       "<style scoped>\n",
       "    .dataframe tbody tr th:only-of-type {\n",
       "        vertical-align: middle;\n",
       "    }\n",
       "\n",
       "    .dataframe tbody tr th {\n",
       "        vertical-align: top;\n",
       "    }\n",
       "\n",
       "    .dataframe thead th {\n",
       "        text-align: right;\n",
       "    }\n",
       "</style>\n",
       "<table border=\"1\" class=\"dataframe\">\n",
       "  <thead>\n",
       "    <tr style=\"text-align: right;\">\n",
       "      <th></th>\n",
       "      <th>judgement</th>\n",
       "      <th>headnote</th>\n",
       "    </tr>\n",
       "  </thead>\n",
       "  <tbody>\n",
       "    <tr>\n",
       "      <th>0</th>\n",
       "      <td>Special Leave Petition Nos.\\n823 24 of 1990.\\n...</td>\n",
       "      <td>Petitioners ' lands were acquired by the respo...</td>\n",
       "    </tr>\n",
       "    <tr>\n",
       "      <th>1</th>\n",
       "      <td>ivil Appeal No. 4649 of 1989.\\nFrom the Judgme...</td>\n",
       "      <td>Pursuant to a scheme enacted for the benefit o...</td>\n",
       "    </tr>\n",
       "    <tr>\n",
       "      <th>2</th>\n",
       "      <td>Appeals, Nos. 275 276 of 1963.\\nAppeals by spe...</td>\n",
       "      <td>By section 25 (4) of the Income tax Act, \"Wher...</td>\n",
       "    </tr>\n",
       "    <tr>\n",
       "      <th>3</th>\n",
       "      <td>No. 7338 of 1981.\\n(Under Article 32 of the Co...</td>\n",
       "      <td>Fundamental Rule 56(j) confers power on the ap...</td>\n",
       "    </tr>\n",
       "    <tr>\n",
       "      <th>4</th>\n",
       "      <td>(C) No. 677 of 1988.\\n(Under Article 32 of the...</td>\n",
       "      <td>The Lt. Governor of Delhi amended the Delhi Po...</td>\n",
       "    </tr>\n",
       "  </tbody>\n",
       "</table>\n",
       "</div>"
      ],
      "text/plain": [
       "                                           judgement  \\\n",
       "0  Special Leave Petition Nos.\\n823 24 of 1990.\\n...   \n",
       "1  ivil Appeal No. 4649 of 1989.\\nFrom the Judgme...   \n",
       "2  Appeals, Nos. 275 276 of 1963.\\nAppeals by spe...   \n",
       "3  No. 7338 of 1981.\\n(Under Article 32 of the Co...   \n",
       "4  (C) No. 677 of 1988.\\n(Under Article 32 of the...   \n",
       "\n",
       "                                            headnote  \n",
       "0  Petitioners ' lands were acquired by the respo...  \n",
       "1  Pursuant to a scheme enacted for the benefit o...  \n",
       "2  By section 25 (4) of the Income tax Act, \"Wher...  \n",
       "3  Fundamental Rule 56(j) confers power on the ap...  \n",
       "4  The Lt. Governor of Delhi amended the Delhi Po...  "
      ]
     },
     "execution_count": 4,
     "metadata": {},
     "output_type": "execute_result"
    }
   ],
   "source": [
    "content = combine_test_and_train()\n",
    "original_df = pd.DataFrame(content)\n",
    "original_df.head(5)"
   ]
  },
  {
   "cell_type": "code",
   "execution_count": 5,
   "id": "2dde840f",
   "metadata": {},
   "outputs": [
    {
     "data": {
      "text/html": [
       "<div>\n",
       "<style scoped>\n",
       "    .dataframe tbody tr th:only-of-type {\n",
       "        vertical-align: middle;\n",
       "    }\n",
       "\n",
       "    .dataframe tbody tr th {\n",
       "        vertical-align: top;\n",
       "    }\n",
       "\n",
       "    .dataframe thead th {\n",
       "        text-align: right;\n",
       "    }\n",
       "</style>\n",
       "<table border=\"1\" class=\"dataframe\">\n",
       "  <thead>\n",
       "    <tr style=\"text-align: right;\">\n",
       "      <th></th>\n",
       "      <th>judgement</th>\n",
       "      <th>headnote</th>\n",
       "    </tr>\n",
       "  </thead>\n",
       "  <tbody>\n",
       "    <tr>\n",
       "      <th>count</th>\n",
       "      <td>7100</td>\n",
       "      <td>7100</td>\n",
       "    </tr>\n",
       "    <tr>\n",
       "      <th>unique</th>\n",
       "      <td>7100</td>\n",
       "      <td>7100</td>\n",
       "    </tr>\n",
       "    <tr>\n",
       "      <th>top</th>\n",
       "      <td>Special Leave Petition Nos.\\n823 24 of 1990.\\n...</td>\n",
       "      <td>Petitioners ' lands were acquired by the respo...</td>\n",
       "    </tr>\n",
       "    <tr>\n",
       "      <th>freq</th>\n",
       "      <td>1</td>\n",
       "      <td>1</td>\n",
       "    </tr>\n",
       "  </tbody>\n",
       "</table>\n",
       "</div>"
      ],
      "text/plain": [
       "                                                judgement  \\\n",
       "count                                                7100   \n",
       "unique                                               7100   \n",
       "top     Special Leave Petition Nos.\\n823 24 of 1990.\\n...   \n",
       "freq                                                    1   \n",
       "\n",
       "                                                 headnote  \n",
       "count                                                7100  \n",
       "unique                                               7100  \n",
       "top     Petitioners ' lands were acquired by the respo...  \n",
       "freq                                                    1  "
      ]
     },
     "execution_count": 5,
     "metadata": {},
     "output_type": "execute_result"
    }
   ],
   "source": [
    "original_df.dropna(inplace=True)\n",
    "original_df.drop_duplicates(subset=['headnote'], inplace=True)\n",
    "original_df['headnote'] = original_df['headnote'].str.strip()\n",
    "original_df['judgement'] = original_df['judgement'].str.strip()\n",
    "original_df.describe()"
   ]
  },
  {
   "cell_type": "markdown",
   "id": "d5e4f160",
   "metadata": {},
   "source": [
    "## Save New Dataset"
   ]
  },
  {
   "cell_type": "code",
   "execution_count": 6,
   "id": "3144c6eb",
   "metadata": {},
   "outputs": [],
   "source": [
    "original_df.to_csv('../data/combined_data.csv')"
   ]
  }
 ],
 "metadata": {
  "kernelspec": {
   "display_name": "Python 3",
   "language": "python",
   "name": "python3"
  },
  "language_info": {
   "codemirror_mode": {
    "name": "ipython",
    "version": 3
   },
   "file_extension": ".py",
   "mimetype": "text/x-python",
   "name": "python",
   "nbconvert_exporter": "python",
   "pygments_lexer": "ipython3",
   "version": "3.9.6"
  }
 },
 "nbformat": 4,
 "nbformat_minor": 5
}
