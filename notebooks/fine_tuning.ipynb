{
  "cells": [
    {
      "cell_type": "markdown",
      "id": "caa79798",
      "metadata": {
        "id": "caa79798"
      },
      "source": [
        "# Fine Tuning"
      ]
    },
    {
      "cell_type": "markdown",
      "id": "91e2e4a7",
      "metadata": {
        "id": "91e2e4a7"
      },
      "source": [
        "In this script, we will fine tune a model to be able to generate good quality headnotes for Indian court judgements."
      ]
    },
    {
      "cell_type": "markdown",
      "id": "3a187643",
      "metadata": {
        "id": "3a187643"
      },
      "source": [
        "## Imports and Configs"
      ]
    },
    {
      "cell_type": "code",
      "execution_count": null,
      "id": "oyGI80OHqZda",
      "metadata": {
        "colab": {
          "base_uri": "https://localhost:8080/"
        },
        "collapsed": true,
        "id": "oyGI80OHqZda",
        "outputId": "0f57a0d4-a6d8-4408-a952-16898efc50cb"
      },
      "outputs": [
        {
          "name": "stdout",
          "output_type": "stream",
          "text": [
            "Requirement already satisfied: datasets in /usr/local/lib/python3.11/dist-packages (2.14.4)\n",
            "Requirement already satisfied: numpy>=1.17 in /usr/local/lib/python3.11/dist-packages (from datasets) (2.0.2)\n",
            "Requirement already satisfied: pyarrow>=8.0.0 in /usr/local/lib/python3.11/dist-packages (from datasets) (18.1.0)\n",
            "Requirement already satisfied: dill<0.3.8,>=0.3.0 in /usr/local/lib/python3.11/dist-packages (from datasets) (0.3.7)\n",
            "Requirement already satisfied: pandas in /usr/local/lib/python3.11/dist-packages (from datasets) (2.2.2)\n",
            "Requirement already satisfied: requests>=2.19.0 in /usr/local/lib/python3.11/dist-packages (from datasets) (2.32.3)\n",
            "Requirement already satisfied: tqdm>=4.62.1 in /usr/local/lib/python3.11/dist-packages (from datasets) (4.67.1)\n",
            "Requirement already satisfied: xxhash in /usr/local/lib/python3.11/dist-packages (from datasets) (3.5.0)\n",
            "Requirement already satisfied: multiprocess in /usr/local/lib/python3.11/dist-packages (from datasets) (0.70.15)\n",
            "Requirement already satisfied: fsspec>=2021.11.1 in /usr/local/lib/python3.11/dist-packages (from fsspec[http]>=2021.11.1->datasets) (2025.3.2)\n",
            "Requirement already satisfied: aiohttp in /usr/local/lib/python3.11/dist-packages (from datasets) (3.11.15)\n",
            "Requirement already satisfied: huggingface-hub<1.0.0,>=0.14.0 in /usr/local/lib/python3.11/dist-packages (from datasets) (0.31.4)\n",
            "Requirement already satisfied: packaging in /usr/local/lib/python3.11/dist-packages (from datasets) (24.2)\n",
            "Requirement already satisfied: pyyaml>=5.1 in /usr/local/lib/python3.11/dist-packages (from datasets) (6.0.2)\n",
            "Requirement already satisfied: aiohappyeyeballs>=2.3.0 in /usr/local/lib/python3.11/dist-packages (from aiohttp->datasets) (2.6.1)\n",
            "Requirement already satisfied: aiosignal>=1.1.2 in /usr/local/lib/python3.11/dist-packages (from aiohttp->datasets) (1.3.2)\n",
            "Requirement already satisfied: attrs>=17.3.0 in /usr/local/lib/python3.11/dist-packages (from aiohttp->datasets) (25.3.0)\n",
            "Requirement already satisfied: frozenlist>=1.1.1 in /usr/local/lib/python3.11/dist-packages (from aiohttp->datasets) (1.6.0)\n",
            "Requirement already satisfied: multidict<7.0,>=4.5 in /usr/local/lib/python3.11/dist-packages (from aiohttp->datasets) (6.4.4)\n",
            "Requirement already satisfied: propcache>=0.2.0 in /usr/local/lib/python3.11/dist-packages (from aiohttp->datasets) (0.3.1)\n",
            "Requirement already satisfied: yarl<2.0,>=1.17.0 in /usr/local/lib/python3.11/dist-packages (from aiohttp->datasets) (1.20.0)\n",
            "Requirement already satisfied: filelock in /usr/local/lib/python3.11/dist-packages (from huggingface-hub<1.0.0,>=0.14.0->datasets) (3.18.0)\n",
            "Requirement already satisfied: typing-extensions>=3.7.4.3 in /usr/local/lib/python3.11/dist-packages (from huggingface-hub<1.0.0,>=0.14.0->datasets) (4.13.2)\n",
            "Requirement already satisfied: charset-normalizer<4,>=2 in /usr/local/lib/python3.11/dist-packages (from requests>=2.19.0->datasets) (3.4.2)\n",
            "Requirement already satisfied: idna<4,>=2.5 in /usr/local/lib/python3.11/dist-packages (from requests>=2.19.0->datasets) (3.10)\n",
            "Requirement already satisfied: urllib3<3,>=1.21.1 in /usr/local/lib/python3.11/dist-packages (from requests>=2.19.0->datasets) (2.4.0)\n",
            "Requirement already satisfied: certifi>=2017.4.17 in /usr/local/lib/python3.11/dist-packages (from requests>=2.19.0->datasets) (2025.4.26)\n",
            "Requirement already satisfied: python-dateutil>=2.8.2 in /usr/local/lib/python3.11/dist-packages (from pandas->datasets) (2.9.0.post0)\n",
            "Requirement already satisfied: pytz>=2020.1 in /usr/local/lib/python3.11/dist-packages (from pandas->datasets) (2025.2)\n",
            "Requirement already satisfied: tzdata>=2022.7 in /usr/local/lib/python3.11/dist-packages (from pandas->datasets) (2025.2)\n",
            "Requirement already satisfied: six>=1.5 in /usr/local/lib/python3.11/dist-packages (from python-dateutil>=2.8.2->pandas->datasets) (1.17.0)\n",
            "Collecting evaluate\n",
            "  Downloading evaluate-0.4.3-py3-none-any.whl.metadata (9.2 kB)\n",
            "Requirement already satisfied: datasets>=2.0.0 in /usr/local/lib/python3.11/dist-packages (from evaluate) (2.14.4)\n",
            "Requirement already satisfied: numpy>=1.17 in /usr/local/lib/python3.11/dist-packages (from evaluate) (2.0.2)\n",
            "Requirement already satisfied: dill in /usr/local/lib/python3.11/dist-packages (from evaluate) (0.3.7)\n",
            "Requirement already satisfied: pandas in /usr/local/lib/python3.11/dist-packages (from evaluate) (2.2.2)\n",
            "Requirement already satisfied: requests>=2.19.0 in /usr/local/lib/python3.11/dist-packages (from evaluate) (2.32.3)\n",
            "Requirement already satisfied: tqdm>=4.62.1 in /usr/local/lib/python3.11/dist-packages (from evaluate) (4.67.1)\n",
            "Requirement already satisfied: xxhash in /usr/local/lib/python3.11/dist-packages (from evaluate) (3.5.0)\n",
            "Requirement already satisfied: multiprocess in /usr/local/lib/python3.11/dist-packages (from evaluate) (0.70.15)\n",
            "Requirement already satisfied: fsspec>=2021.05.0 in /usr/local/lib/python3.11/dist-packages (from fsspec[http]>=2021.05.0->evaluate) (2025.3.2)\n",
            "Requirement already satisfied: huggingface-hub>=0.7.0 in /usr/local/lib/python3.11/dist-packages (from evaluate) (0.31.4)\n",
            "Requirement already satisfied: packaging in /usr/local/lib/python3.11/dist-packages (from evaluate) (24.2)\n",
            "Requirement already satisfied: pyarrow>=8.0.0 in /usr/local/lib/python3.11/dist-packages (from datasets>=2.0.0->evaluate) (18.1.0)\n",
            "Requirement already satisfied: aiohttp in /usr/local/lib/python3.11/dist-packages (from datasets>=2.0.0->evaluate) (3.11.15)\n",
            "Requirement already satisfied: pyyaml>=5.1 in /usr/local/lib/python3.11/dist-packages (from datasets>=2.0.0->evaluate) (6.0.2)\n",
            "Requirement already satisfied: filelock in /usr/local/lib/python3.11/dist-packages (from huggingface-hub>=0.7.0->evaluate) (3.18.0)\n",
            "Requirement already satisfied: typing-extensions>=3.7.4.3 in /usr/local/lib/python3.11/dist-packages (from huggingface-hub>=0.7.0->evaluate) (4.13.2)\n",
            "Requirement already satisfied: charset-normalizer<4,>=2 in /usr/local/lib/python3.11/dist-packages (from requests>=2.19.0->evaluate) (3.4.2)\n",
            "Requirement already satisfied: idna<4,>=2.5 in /usr/local/lib/python3.11/dist-packages (from requests>=2.19.0->evaluate) (3.10)\n",
            "Requirement already satisfied: urllib3<3,>=1.21.1 in /usr/local/lib/python3.11/dist-packages (from requests>=2.19.0->evaluate) (2.4.0)\n",
            "Requirement already satisfied: certifi>=2017.4.17 in /usr/local/lib/python3.11/dist-packages (from requests>=2.19.0->evaluate) (2025.4.26)\n",
            "Requirement already satisfied: python-dateutil>=2.8.2 in /usr/local/lib/python3.11/dist-packages (from pandas->evaluate) (2.9.0.post0)\n",
            "Requirement already satisfied: pytz>=2020.1 in /usr/local/lib/python3.11/dist-packages (from pandas->evaluate) (2025.2)\n",
            "Requirement already satisfied: tzdata>=2022.7 in /usr/local/lib/python3.11/dist-packages (from pandas->evaluate) (2025.2)\n",
            "Requirement already satisfied: aiohappyeyeballs>=2.3.0 in /usr/local/lib/python3.11/dist-packages (from aiohttp->datasets>=2.0.0->evaluate) (2.6.1)\n",
            "Requirement already satisfied: aiosignal>=1.1.2 in /usr/local/lib/python3.11/dist-packages (from aiohttp->datasets>=2.0.0->evaluate) (1.3.2)\n",
            "Requirement already satisfied: attrs>=17.3.0 in /usr/local/lib/python3.11/dist-packages (from aiohttp->datasets>=2.0.0->evaluate) (25.3.0)\n",
            "Requirement already satisfied: frozenlist>=1.1.1 in /usr/local/lib/python3.11/dist-packages (from aiohttp->datasets>=2.0.0->evaluate) (1.6.0)\n",
            "Requirement already satisfied: multidict<7.0,>=4.5 in /usr/local/lib/python3.11/dist-packages (from aiohttp->datasets>=2.0.0->evaluate) (6.4.4)\n",
            "Requirement already satisfied: propcache>=0.2.0 in /usr/local/lib/python3.11/dist-packages (from aiohttp->datasets>=2.0.0->evaluate) (0.3.1)\n",
            "Requirement already satisfied: yarl<2.0,>=1.17.0 in /usr/local/lib/python3.11/dist-packages (from aiohttp->datasets>=2.0.0->evaluate) (1.20.0)\n",
            "Requirement already satisfied: six>=1.5 in /usr/local/lib/python3.11/dist-packages (from python-dateutil>=2.8.2->pandas->evaluate) (1.17.0)\n",
            "Downloading evaluate-0.4.3-py3-none-any.whl (84 kB)\n",
            "\u001b[2K   \u001b[90m━━━━━━━━━━━━━━━━━━━━━━━━━━━━━━━━━━━━━━━━\u001b[0m \u001b[32m84.0/84.0 kB\u001b[0m \u001b[31m2.0 MB/s\u001b[0m eta \u001b[36m0:00:00\u001b[0m\n",
            "\u001b[?25hInstalling collected packages: evaluate\n",
            "Successfully installed evaluate-0.4.3\n",
            "Collecting bitsandbytes\n",
            "  Downloading bitsandbytes-0.46.0-py3-none-manylinux_2_24_x86_64.whl.metadata (10 kB)\n",
            "Requirement already satisfied: torch<3,>=2.2 in /usr/local/lib/python3.11/dist-packages (from bitsandbytes) (2.6.0+cu124)\n",
            "Requirement already satisfied: numpy>=1.17 in /usr/local/lib/python3.11/dist-packages (from bitsandbytes) (2.0.2)\n",
            "Requirement already satisfied: filelock in /usr/local/lib/python3.11/dist-packages (from torch<3,>=2.2->bitsandbytes) (3.18.0)\n",
            "Requirement already satisfied: typing-extensions>=4.10.0 in /usr/local/lib/python3.11/dist-packages (from torch<3,>=2.2->bitsandbytes) (4.13.2)\n",
            "Requirement already satisfied: networkx in /usr/local/lib/python3.11/dist-packages (from torch<3,>=2.2->bitsandbytes) (3.4.2)\n",
            "Requirement already satisfied: jinja2 in /usr/local/lib/python3.11/dist-packages (from torch<3,>=2.2->bitsandbytes) (3.1.6)\n",
            "Requirement already satisfied: fsspec in /usr/local/lib/python3.11/dist-packages (from torch<3,>=2.2->bitsandbytes) (2025.3.2)\n",
            "Collecting nvidia-cuda-nvrtc-cu12==12.4.127 (from torch<3,>=2.2->bitsandbytes)\n",
            "  Downloading nvidia_cuda_nvrtc_cu12-12.4.127-py3-none-manylinux2014_x86_64.whl.metadata (1.5 kB)\n",
            "Collecting nvidia-cuda-runtime-cu12==12.4.127 (from torch<3,>=2.2->bitsandbytes)\n",
            "  Downloading nvidia_cuda_runtime_cu12-12.4.127-py3-none-manylinux2014_x86_64.whl.metadata (1.5 kB)\n",
            "Collecting nvidia-cuda-cupti-cu12==12.4.127 (from torch<3,>=2.2->bitsandbytes)\n",
            "  Downloading nvidia_cuda_cupti_cu12-12.4.127-py3-none-manylinux2014_x86_64.whl.metadata (1.6 kB)\n",
            "Collecting nvidia-cudnn-cu12==9.1.0.70 (from torch<3,>=2.2->bitsandbytes)\n",
            "  Downloading nvidia_cudnn_cu12-9.1.0.70-py3-none-manylinux2014_x86_64.whl.metadata (1.6 kB)\n",
            "Collecting nvidia-cublas-cu12==12.4.5.8 (from torch<3,>=2.2->bitsandbytes)\n",
            "  Downloading nvidia_cublas_cu12-12.4.5.8-py3-none-manylinux2014_x86_64.whl.metadata (1.5 kB)\n",
            "Collecting nvidia-cufft-cu12==11.2.1.3 (from torch<3,>=2.2->bitsandbytes)\n",
            "  Downloading nvidia_cufft_cu12-11.2.1.3-py3-none-manylinux2014_x86_64.whl.metadata (1.5 kB)\n",
            "Collecting nvidia-curand-cu12==10.3.5.147 (from torch<3,>=2.2->bitsandbytes)\n",
            "  Downloading nvidia_curand_cu12-10.3.5.147-py3-none-manylinux2014_x86_64.whl.metadata (1.5 kB)\n",
            "Collecting nvidia-cusolver-cu12==11.6.1.9 (from torch<3,>=2.2->bitsandbytes)\n",
            "  Downloading nvidia_cusolver_cu12-11.6.1.9-py3-none-manylinux2014_x86_64.whl.metadata (1.6 kB)\n",
            "Collecting nvidia-cusparse-cu12==12.3.1.170 (from torch<3,>=2.2->bitsandbytes)\n",
            "  Downloading nvidia_cusparse_cu12-12.3.1.170-py3-none-manylinux2014_x86_64.whl.metadata (1.6 kB)\n",
            "Requirement already satisfied: nvidia-cusparselt-cu12==0.6.2 in /usr/local/lib/python3.11/dist-packages (from torch<3,>=2.2->bitsandbytes) (0.6.2)\n",
            "Requirement already satisfied: nvidia-nccl-cu12==2.21.5 in /usr/local/lib/python3.11/dist-packages (from torch<3,>=2.2->bitsandbytes) (2.21.5)\n",
            "Requirement already satisfied: nvidia-nvtx-cu12==12.4.127 in /usr/local/lib/python3.11/dist-packages (from torch<3,>=2.2->bitsandbytes) (12.4.127)\n",
            "Collecting nvidia-nvjitlink-cu12==12.4.127 (from torch<3,>=2.2->bitsandbytes)\n",
            "  Downloading nvidia_nvjitlink_cu12-12.4.127-py3-none-manylinux2014_x86_64.whl.metadata (1.5 kB)\n",
            "Requirement already satisfied: triton==3.2.0 in /usr/local/lib/python3.11/dist-packages (from torch<3,>=2.2->bitsandbytes) (3.2.0)\n",
            "Requirement already satisfied: sympy==1.13.1 in /usr/local/lib/python3.11/dist-packages (from torch<3,>=2.2->bitsandbytes) (1.13.1)\n",
            "Requirement already satisfied: mpmath<1.4,>=1.1.0 in /usr/local/lib/python3.11/dist-packages (from sympy==1.13.1->torch<3,>=2.2->bitsandbytes) (1.3.0)\n",
            "Requirement already satisfied: MarkupSafe>=2.0 in /usr/local/lib/python3.11/dist-packages (from jinja2->torch<3,>=2.2->bitsandbytes) (3.0.2)\n",
            "Downloading bitsandbytes-0.46.0-py3-none-manylinux_2_24_x86_64.whl (67.0 MB)\n",
            "\u001b[2K   \u001b[90m━━━━━━━━━━━━━━━━━━━━━━━━━━━━━━━━━━━━━━━━\u001b[0m \u001b[32m67.0/67.0 MB\u001b[0m \u001b[31m30.3 MB/s\u001b[0m eta \u001b[36m0:00:00\u001b[0m\n",
            "\u001b[?25hDownloading nvidia_cublas_cu12-12.4.5.8-py3-none-manylinux2014_x86_64.whl (363.4 MB)\n",
            "\u001b[2K   \u001b[90m━━━━━━━━━━━━━━━━━━━━━━━━━━━━━━━━━━━━━━━━\u001b[0m \u001b[32m363.4/363.4 MB\u001b[0m \u001b[31m3.2 MB/s\u001b[0m eta \u001b[36m0:00:00\u001b[0m\n",
            "\u001b[?25hDownloading nvidia_cuda_cupti_cu12-12.4.127-py3-none-manylinux2014_x86_64.whl (13.8 MB)\n",
            "\u001b[2K   \u001b[90m━━━━━━━━━━━━━━━━━━━━━━━━━━━━━━━━━━━━━━━━\u001b[0m \u001b[32m13.8/13.8 MB\u001b[0m \u001b[31m48.0 MB/s\u001b[0m eta \u001b[36m0:00:00\u001b[0m\n",
            "\u001b[?25hDownloading nvidia_cuda_nvrtc_cu12-12.4.127-py3-none-manylinux2014_x86_64.whl (24.6 MB)\n",
            "\u001b[2K   \u001b[90m━━━━━━━━━━━━━━━━━━━━━━━━━━━━━━━━━━━━━━━━\u001b[0m \u001b[32m24.6/24.6 MB\u001b[0m \u001b[31m83.9 MB/s\u001b[0m eta \u001b[36m0:00:00\u001b[0m\n",
            "\u001b[?25hDownloading nvidia_cuda_runtime_cu12-12.4.127-py3-none-manylinux2014_x86_64.whl (883 kB)\n",
            "\u001b[2K   \u001b[90m━━━━━━━━━━━━━━━━━━━━━━━━━━━━━━━━━━━━━━━━\u001b[0m \u001b[32m883.7/883.7 kB\u001b[0m \u001b[31m41.7 MB/s\u001b[0m eta \u001b[36m0:00:00\u001b[0m\n",
            "\u001b[?25hDownloading nvidia_cudnn_cu12-9.1.0.70-py3-none-manylinux2014_x86_64.whl (664.8 MB)\n",
            "\u001b[2K   \u001b[90m━━━━━━━━━━━━━━━━━━━━━━━━━━━━━━━━━━━━━━━━\u001b[0m \u001b[32m664.8/664.8 MB\u001b[0m \u001b[31m2.7 MB/s\u001b[0m eta \u001b[36m0:00:00\u001b[0m\n",
            "\u001b[?25hDownloading nvidia_cufft_cu12-11.2.1.3-py3-none-manylinux2014_x86_64.whl (211.5 MB)\n",
            "\u001b[2K   \u001b[90m━━━━━━━━━━━━━━━━━━━━━━━━━━━━━━━━━━━━━━━━\u001b[0m \u001b[32m211.5/211.5 MB\u001b[0m \u001b[31m9.1 MB/s\u001b[0m eta \u001b[36m0:00:00\u001b[0m\n",
            "\u001b[?25hDownloading nvidia_curand_cu12-10.3.5.147-py3-none-manylinux2014_x86_64.whl (56.3 MB)\n",
            "\u001b[2K   \u001b[90m━━━━━━━━━━━━━━━━━━━━━━━━━━━━━━━━━━━━━━━━\u001b[0m \u001b[32m56.3/56.3 MB\u001b[0m \u001b[31m23.6 MB/s\u001b[0m eta \u001b[36m0:00:00\u001b[0m\n",
            "\u001b[?25hDownloading nvidia_cusolver_cu12-11.6.1.9-py3-none-manylinux2014_x86_64.whl (127.9 MB)\n",
            "\u001b[2K   \u001b[90m━━━━━━━━━━━━━━━━━━━━━━━━━━━━━━━━━━━━━━━━\u001b[0m \u001b[32m127.9/127.9 MB\u001b[0m \u001b[31m9.7 MB/s\u001b[0m eta \u001b[36m0:00:00\u001b[0m\n",
            "\u001b[?25hDownloading nvidia_cusparse_cu12-12.3.1.170-py3-none-manylinux2014_x86_64.whl (207.5 MB)\n",
            "\u001b[2K   \u001b[90m━━━━━━━━━━━━━━━━━━━━━━━━━━━━━━━━━━━━━━━━\u001b[0m \u001b[32m207.5/207.5 MB\u001b[0m \u001b[31m6.9 MB/s\u001b[0m eta \u001b[36m0:00:00\u001b[0m\n",
            "\u001b[?25hDownloading nvidia_nvjitlink_cu12-12.4.127-py3-none-manylinux2014_x86_64.whl (21.1 MB)\n",
            "\u001b[2K   \u001b[90m━━━━━━━━━━━━━━━━━━━━━━━━━━━━━━━━━━━━━━━━\u001b[0m \u001b[32m21.1/21.1 MB\u001b[0m \u001b[31m55.0 MB/s\u001b[0m eta \u001b[36m0:00:00\u001b[0m\n",
            "\u001b[?25hInstalling collected packages: nvidia-nvjitlink-cu12, nvidia-curand-cu12, nvidia-cufft-cu12, nvidia-cuda-runtime-cu12, nvidia-cuda-nvrtc-cu12, nvidia-cuda-cupti-cu12, nvidia-cublas-cu12, nvidia-cusparse-cu12, nvidia-cudnn-cu12, nvidia-cusolver-cu12, bitsandbytes\n",
            "  Attempting uninstall: nvidia-nvjitlink-cu12\n",
            "    Found existing installation: nvidia-nvjitlink-cu12 12.5.82\n",
            "    Uninstalling nvidia-nvjitlink-cu12-12.5.82:\n",
            "      Successfully uninstalled nvidia-nvjitlink-cu12-12.5.82\n",
            "  Attempting uninstall: nvidia-curand-cu12\n",
            "    Found existing installation: nvidia-curand-cu12 10.3.6.82\n",
            "    Uninstalling nvidia-curand-cu12-10.3.6.82:\n",
            "      Successfully uninstalled nvidia-curand-cu12-10.3.6.82\n",
            "  Attempting uninstall: nvidia-cufft-cu12\n",
            "    Found existing installation: nvidia-cufft-cu12 11.2.3.61\n",
            "    Uninstalling nvidia-cufft-cu12-11.2.3.61:\n",
            "      Successfully uninstalled nvidia-cufft-cu12-11.2.3.61\n",
            "  Attempting uninstall: nvidia-cuda-runtime-cu12\n",
            "    Found existing installation: nvidia-cuda-runtime-cu12 12.5.82\n",
            "    Uninstalling nvidia-cuda-runtime-cu12-12.5.82:\n",
            "      Successfully uninstalled nvidia-cuda-runtime-cu12-12.5.82\n",
            "  Attempting uninstall: nvidia-cuda-nvrtc-cu12\n",
            "    Found existing installation: nvidia-cuda-nvrtc-cu12 12.5.82\n",
            "    Uninstalling nvidia-cuda-nvrtc-cu12-12.5.82:\n",
            "      Successfully uninstalled nvidia-cuda-nvrtc-cu12-12.5.82\n",
            "  Attempting uninstall: nvidia-cuda-cupti-cu12\n",
            "    Found existing installation: nvidia-cuda-cupti-cu12 12.5.82\n",
            "    Uninstalling nvidia-cuda-cupti-cu12-12.5.82:\n",
            "      Successfully uninstalled nvidia-cuda-cupti-cu12-12.5.82\n",
            "  Attempting uninstall: nvidia-cublas-cu12\n",
            "    Found existing installation: nvidia-cublas-cu12 12.5.3.2\n",
            "    Uninstalling nvidia-cublas-cu12-12.5.3.2:\n",
            "      Successfully uninstalled nvidia-cublas-cu12-12.5.3.2\n",
            "  Attempting uninstall: nvidia-cusparse-cu12\n",
            "    Found existing installation: nvidia-cusparse-cu12 12.5.1.3\n",
            "    Uninstalling nvidia-cusparse-cu12-12.5.1.3:\n",
            "      Successfully uninstalled nvidia-cusparse-cu12-12.5.1.3\n",
            "  Attempting uninstall: nvidia-cudnn-cu12\n",
            "    Found existing installation: nvidia-cudnn-cu12 9.3.0.75\n",
            "    Uninstalling nvidia-cudnn-cu12-9.3.0.75:\n",
            "      Successfully uninstalled nvidia-cudnn-cu12-9.3.0.75\n",
            "  Attempting uninstall: nvidia-cusolver-cu12\n",
            "    Found existing installation: nvidia-cusolver-cu12 11.6.3.83\n",
            "    Uninstalling nvidia-cusolver-cu12-11.6.3.83:\n",
            "      Successfully uninstalled nvidia-cusolver-cu12-11.6.3.83\n",
            "Successfully installed bitsandbytes-0.46.0 nvidia-cublas-cu12-12.4.5.8 nvidia-cuda-cupti-cu12-12.4.127 nvidia-cuda-nvrtc-cu12-12.4.127 nvidia-cuda-runtime-cu12-12.4.127 nvidia-cudnn-cu12-9.1.0.70 nvidia-cufft-cu12-11.2.1.3 nvidia-curand-cu12-10.3.5.147 nvidia-cusolver-cu12-11.6.1.9 nvidia-cusparse-cu12-12.3.1.170 nvidia-nvjitlink-cu12-12.4.127\n",
            "Collecting rouge_score\n",
            "  Downloading rouge_score-0.1.2.tar.gz (17 kB)\n",
            "  Preparing metadata (setup.py) ... \u001b[?25l\u001b[?25hdone\n",
            "Requirement already satisfied: absl-py in /usr/local/lib/python3.11/dist-packages (from rouge_score) (1.4.0)\n",
            "Requirement already satisfied: nltk in /usr/local/lib/python3.11/dist-packages (from rouge_score) (3.9.1)\n",
            "Requirement already satisfied: numpy in /usr/local/lib/python3.11/dist-packages (from rouge_score) (2.0.2)\n",
            "Requirement already satisfied: six>=1.14.0 in /usr/local/lib/python3.11/dist-packages (from rouge_score) (1.17.0)\n",
            "Requirement already satisfied: click in /usr/local/lib/python3.11/dist-packages (from nltk->rouge_score) (8.2.1)\n",
            "Requirement already satisfied: joblib in /usr/local/lib/python3.11/dist-packages (from nltk->rouge_score) (1.5.0)\n",
            "Requirement already satisfied: regex>=2021.8.3 in /usr/local/lib/python3.11/dist-packages (from nltk->rouge_score) (2024.11.6)\n",
            "Requirement already satisfied: tqdm in /usr/local/lib/python3.11/dist-packages (from nltk->rouge_score) (4.67.1)\n",
            "Building wheels for collected packages: rouge_score\n",
            "  Building wheel for rouge_score (setup.py) ... \u001b[?25l\u001b[?25hdone\n",
            "  Created wheel for rouge_score: filename=rouge_score-0.1.2-py3-none-any.whl size=24934 sha256=4c8a7ff46165800e2672aee337642624bde02854af04ac5f95d4d37dc22b3bdf\n",
            "  Stored in directory: /root/.cache/pip/wheels/1e/19/43/8a442dc83660ca25e163e1bd1f89919284ab0d0c1475475148\n",
            "Successfully built rouge_score\n",
            "Installing collected packages: rouge_score\n",
            "Successfully installed rouge_score-0.1.2\n",
            "Collecting bert_score\n",
            "  Downloading bert_score-0.3.13-py3-none-any.whl.metadata (15 kB)\n",
            "Requirement already satisfied: torch>=1.0.0 in /usr/local/lib/python3.11/dist-packages (from bert_score) (2.6.0+cu124)\n",
            "Requirement already satisfied: pandas>=1.0.1 in /usr/local/lib/python3.11/dist-packages (from bert_score) (2.2.2)\n",
            "Requirement already satisfied: transformers>=3.0.0 in /usr/local/lib/python3.11/dist-packages (from bert_score) (4.52.2)\n",
            "Requirement already satisfied: numpy in /usr/local/lib/python3.11/dist-packages (from bert_score) (2.0.2)\n",
            "Requirement already satisfied: requests in /usr/local/lib/python3.11/dist-packages (from bert_score) (2.32.3)\n",
            "Requirement already satisfied: tqdm>=4.31.1 in /usr/local/lib/python3.11/dist-packages (from bert_score) (4.67.1)\n",
            "Requirement already satisfied: matplotlib in /usr/local/lib/python3.11/dist-packages (from bert_score) (3.10.0)\n",
            "Requirement already satisfied: packaging>=20.9 in /usr/local/lib/python3.11/dist-packages (from bert_score) (24.2)\n",
            "Requirement already satisfied: python-dateutil>=2.8.2 in /usr/local/lib/python3.11/dist-packages (from pandas>=1.0.1->bert_score) (2.9.0.post0)\n",
            "Requirement already satisfied: pytz>=2020.1 in /usr/local/lib/python3.11/dist-packages (from pandas>=1.0.1->bert_score) (2025.2)\n",
            "Requirement already satisfied: tzdata>=2022.7 in /usr/local/lib/python3.11/dist-packages (from pandas>=1.0.1->bert_score) (2025.2)\n",
            "Requirement already satisfied: filelock in /usr/local/lib/python3.11/dist-packages (from torch>=1.0.0->bert_score) (3.18.0)\n",
            "Requirement already satisfied: typing-extensions>=4.10.0 in /usr/local/lib/python3.11/dist-packages (from torch>=1.0.0->bert_score) (4.13.2)\n",
            "Requirement already satisfied: networkx in /usr/local/lib/python3.11/dist-packages (from torch>=1.0.0->bert_score) (3.4.2)\n",
            "Requirement already satisfied: jinja2 in /usr/local/lib/python3.11/dist-packages (from torch>=1.0.0->bert_score) (3.1.6)\n",
            "Requirement already satisfied: fsspec in /usr/local/lib/python3.11/dist-packages (from torch>=1.0.0->bert_score) (2025.3.2)\n",
            "Requirement already satisfied: nvidia-cuda-nvrtc-cu12==12.4.127 in /usr/local/lib/python3.11/dist-packages (from torch>=1.0.0->bert_score) (12.4.127)\n",
            "Requirement already satisfied: nvidia-cuda-runtime-cu12==12.4.127 in /usr/local/lib/python3.11/dist-packages (from torch>=1.0.0->bert_score) (12.4.127)\n",
            "Requirement already satisfied: nvidia-cuda-cupti-cu12==12.4.127 in /usr/local/lib/python3.11/dist-packages (from torch>=1.0.0->bert_score) (12.4.127)\n",
            "Requirement already satisfied: nvidia-cudnn-cu12==9.1.0.70 in /usr/local/lib/python3.11/dist-packages (from torch>=1.0.0->bert_score) (9.1.0.70)\n",
            "Requirement already satisfied: nvidia-cublas-cu12==12.4.5.8 in /usr/local/lib/python3.11/dist-packages (from torch>=1.0.0->bert_score) (12.4.5.8)\n",
            "Requirement already satisfied: nvidia-cufft-cu12==11.2.1.3 in /usr/local/lib/python3.11/dist-packages (from torch>=1.0.0->bert_score) (11.2.1.3)\n",
            "Requirement already satisfied: nvidia-curand-cu12==10.3.5.147 in /usr/local/lib/python3.11/dist-packages (from torch>=1.0.0->bert_score) (10.3.5.147)\n",
            "Requirement already satisfied: nvidia-cusolver-cu12==11.6.1.9 in /usr/local/lib/python3.11/dist-packages (from torch>=1.0.0->bert_score) (11.6.1.9)\n",
            "Requirement already satisfied: nvidia-cusparse-cu12==12.3.1.170 in /usr/local/lib/python3.11/dist-packages (from torch>=1.0.0->bert_score) (12.3.1.170)\n",
            "Requirement already satisfied: nvidia-cusparselt-cu12==0.6.2 in /usr/local/lib/python3.11/dist-packages (from torch>=1.0.0->bert_score) (0.6.2)\n",
            "Requirement already satisfied: nvidia-nccl-cu12==2.21.5 in /usr/local/lib/python3.11/dist-packages (from torch>=1.0.0->bert_score) (2.21.5)\n",
            "Requirement already satisfied: nvidia-nvtx-cu12==12.4.127 in /usr/local/lib/python3.11/dist-packages (from torch>=1.0.0->bert_score) (12.4.127)\n",
            "Requirement already satisfied: nvidia-nvjitlink-cu12==12.4.127 in /usr/local/lib/python3.11/dist-packages (from torch>=1.0.0->bert_score) (12.4.127)\n",
            "Requirement already satisfied: triton==3.2.0 in /usr/local/lib/python3.11/dist-packages (from torch>=1.0.0->bert_score) (3.2.0)\n",
            "Requirement already satisfied: sympy==1.13.1 in /usr/local/lib/python3.11/dist-packages (from torch>=1.0.0->bert_score) (1.13.1)\n",
            "Requirement already satisfied: mpmath<1.4,>=1.1.0 in /usr/local/lib/python3.11/dist-packages (from sympy==1.13.1->torch>=1.0.0->bert_score) (1.3.0)\n",
            "Requirement already satisfied: huggingface-hub<1.0,>=0.30.0 in /usr/local/lib/python3.11/dist-packages (from transformers>=3.0.0->bert_score) (0.31.4)\n",
            "Requirement already satisfied: pyyaml>=5.1 in /usr/local/lib/python3.11/dist-packages (from transformers>=3.0.0->bert_score) (6.0.2)\n",
            "Requirement already satisfied: regex!=2019.12.17 in /usr/local/lib/python3.11/dist-packages (from transformers>=3.0.0->bert_score) (2024.11.6)\n",
            "Requirement already satisfied: tokenizers<0.22,>=0.21 in /usr/local/lib/python3.11/dist-packages (from transformers>=3.0.0->bert_score) (0.21.1)\n",
            "Requirement already satisfied: safetensors>=0.4.3 in /usr/local/lib/python3.11/dist-packages (from transformers>=3.0.0->bert_score) (0.5.3)\n",
            "Requirement already satisfied: contourpy>=1.0.1 in /usr/local/lib/python3.11/dist-packages (from matplotlib->bert_score) (1.3.2)\n",
            "Requirement already satisfied: cycler>=0.10 in /usr/local/lib/python3.11/dist-packages (from matplotlib->bert_score) (0.12.1)\n",
            "Requirement already satisfied: fonttools>=4.22.0 in /usr/local/lib/python3.11/dist-packages (from matplotlib->bert_score) (4.58.0)\n",
            "Requirement already satisfied: kiwisolver>=1.3.1 in /usr/local/lib/python3.11/dist-packages (from matplotlib->bert_score) (1.4.8)\n",
            "Requirement already satisfied: pillow>=8 in /usr/local/lib/python3.11/dist-packages (from matplotlib->bert_score) (11.2.1)\n",
            "Requirement already satisfied: pyparsing>=2.3.1 in /usr/local/lib/python3.11/dist-packages (from matplotlib->bert_score) (3.2.3)\n",
            "Requirement already satisfied: charset-normalizer<4,>=2 in /usr/local/lib/python3.11/dist-packages (from requests->bert_score) (3.4.2)\n",
            "Requirement already satisfied: idna<4,>=2.5 in /usr/local/lib/python3.11/dist-packages (from requests->bert_score) (3.10)\n",
            "Requirement already satisfied: urllib3<3,>=1.21.1 in /usr/local/lib/python3.11/dist-packages (from requests->bert_score) (2.4.0)\n",
            "Requirement already satisfied: certifi>=2017.4.17 in /usr/local/lib/python3.11/dist-packages (from requests->bert_score) (2025.4.26)\n",
            "Requirement already satisfied: six>=1.5 in /usr/local/lib/python3.11/dist-packages (from python-dateutil>=2.8.2->pandas>=1.0.1->bert_score) (1.17.0)\n",
            "Requirement already satisfied: MarkupSafe>=2.0 in /usr/local/lib/python3.11/dist-packages (from jinja2->torch>=1.0.0->bert_score) (3.0.2)\n",
            "Downloading bert_score-0.3.13-py3-none-any.whl (61 kB)\n",
            "\u001b[2K   \u001b[90m━━━━━━━━━━━━━━━━━━━━━━━━━━━━━━━━━━━━━━━━\u001b[0m \u001b[32m61.1/61.1 kB\u001b[0m \u001b[31m2.3 MB/s\u001b[0m eta \u001b[36m0:00:00\u001b[0m\n",
            "\u001b[?25hInstalling collected packages: bert_score\n",
            "Successfully installed bert_score-0.3.13\n",
            "\u001b[31mERROR: Could not find a version that satisfies the requirement bleu_score (from versions: none)\u001b[0m\u001b[31m\n",
            "\u001b[0m\u001b[31mERROR: No matching distribution found for bleu_score\u001b[0m\u001b[31m\n",
            "\u001b[0mCollecting hf_xet\n",
            "  Downloading hf_xet-1.1.2-cp37-abi3-manylinux_2_17_x86_64.manylinux2014_x86_64.whl.metadata (879 bytes)\n",
            "Downloading hf_xet-1.1.2-cp37-abi3-manylinux_2_17_x86_64.manylinux2014_x86_64.whl (5.2 MB)\n",
            "\u001b[2K   \u001b[90m━━━━━━━━━━━━━━━━━━━━━━━━━━━━━━━━━━━━━━━━\u001b[0m \u001b[32m5.2/5.2 MB\u001b[0m \u001b[31m47.7 MB/s\u001b[0m eta \u001b[36m0:00:00\u001b[0m\n",
            "\u001b[?25hInstalling collected packages: hf_xet\n",
            "Successfully installed hf_xet-1.1.2\n"
          ]
        }
      ],
      "source": [
        "%pip install datasets\n",
        "%pip install evaluate\n",
        "%pip install bitsandbytes\n",
        "%pip install rouge_score\n",
        "%pip install bert_score\n",
        "%pip install bleu_score\n",
        "%pip install hf_xet"
      ]
    },
    {
      "cell_type": "code",
      "execution_count": null,
      "id": "fedc466d",
      "metadata": {
        "id": "fedc466d"
      },
      "outputs": [],
      "source": [
        "from datasets import Dataset, DatasetDict\n",
        "from google.colab import userdata\n",
        "from huggingface_hub import login\n",
        "from peft import AutoPeftModelForCausalLM, get_peft_model, LoraConfig, prepare_model_for_kbit_training\n",
        "from tqdm.auto import tqdm\n",
        "from transformers import AutoTokenizer, AutoModelForCausalLM, BitsAndBytesConfig, DataCollatorForLanguageModeling, TrainingArguments, Trainer\n",
        "import ast\n",
        "import csv\n",
        "import evaluate\n",
        "import nltk\n",
        "import numpy as np\n",
        "import os\n",
        "import pandas as pd\n",
        "import re\n",
        "import torch\n",
        "import wandb"
      ]
    },
    {
      "cell_type": "code",
      "execution_count": null,
      "id": "u_VpzU8cbB3J",
      "metadata": {
        "colab": {
          "base_uri": "https://localhost:8080/"
        },
        "collapsed": true,
        "id": "u_VpzU8cbB3J",
        "outputId": "c075ef4f-da56-4ee7-e5a0-fa8339810017"
      },
      "outputs": [
        {
          "name": "stdout",
          "output_type": "stream",
          "text": [
            "0.46.0\n"
          ]
        }
      ],
      "source": [
        "# i have trouble installing this sometimes so just check that it works separately\n",
        "import bitsandbytes\n",
        "print(bitsandbytes.__version__)"
      ]
    },
    {
      "cell_type": "code",
      "execution_count": null,
      "id": "v8_9-KBuqQJf",
      "metadata": {
        "colab": {
          "base_uri": "https://localhost:8080/"
        },
        "id": "v8_9-KBuqQJf",
        "outputId": "5bb3d91d-33fc-46a9-ed65-2d3a175d3f50"
      },
      "outputs": [
        {
          "name": "stdout",
          "output_type": "stream",
          "text": [
            "Mounted at /content/drive\n"
          ]
        }
      ],
      "source": [
        "from google.colab import drive\n",
        "drive.mount('/content/drive')"
      ]
    },
    {
      "cell_type": "code",
      "execution_count": null,
      "id": "de8e265a",
      "metadata": {
        "id": "de8e265a"
      },
      "outputs": [],
      "source": [
        "INSTRUCTION = \"\"\"\\\n",
        "Case judgements represent rulings issued by judges in judicial proceedings, often comprising extensive transcripts spanning dozens of pages.\n",
        "Your task is to compose the headnote for the given case judgement. An excellent headnote captures the core of the judgment properly, succinctly, and completely.\n",
        "\n",
        "Here are the core elements of a headnote:\n",
        "- PAST TENSE: The headnote is written in the past tense.\n",
        "- METADATA: The headnote includes the case name, judgement number, court, judge(s), and date of judgement.\n",
        "- INTRODUCTION: The headnote introduction describes the field of law that the case deals with, and does not directly jump into the case details.\n",
        "- KEY FACTS: The headnote includes who filed the case, why the case was filed, and what remedy the filer wants.\n",
        "- KEY ARGUMENTS: The headnote includes both sides' submissions and reasons to support their position.\n",
        "- RELEVANT LAWS: The headnote references relevant legislation and concepts to support the case judgement.\n",
        "- CONCLUSION: The headnote includes the case's conclusion and procedural disposition (ex: permitted, dismissed, reversed, remanded, affirmed, etc.).\n",
        "\n",
        "VERY IMPORTANT: Do not generate multiple paragraphs or sections. Write a single paragraph that does not exceed 800 words, or a single page.\n",
        "\"\"\""
      ]
    },
    {
      "cell_type": "code",
      "execution_count": null,
      "id": "TiGzYqbDYdKS",
      "metadata": {
        "id": "TiGzYqbDYdKS"
      },
      "outputs": [],
      "source": [
        "TOKENIZER_CUTOFF = 10000\n",
        "SEED = 8"
      ]
    },
    {
      "cell_type": "code",
      "execution_count": null,
      "id": "7e29a750",
      "metadata": {
        "colab": {
          "base_uri": "https://localhost:8080/"
        },
        "id": "7e29a750",
        "outputId": "3d6b82fe-ede9-4666-af5e-8b06d4f33682"
      },
      "outputs": [
        {
          "name": "stderr",
          "output_type": "stream",
          "text": [
            "\u001b[34m\u001b[1mwandb\u001b[0m: \u001b[33mWARNING\u001b[0m If you're specifying your api key in code, ensure this code is not shared publicly.\n",
            "\u001b[34m\u001b[1mwandb\u001b[0m: \u001b[33mWARNING\u001b[0m Consider setting the WANDB_API_KEY environment variable, or running `wandb login` from the command line.\n",
            "\u001b[34m\u001b[1mwandb\u001b[0m: No netrc file found, creating one.\n",
            "\u001b[34m\u001b[1mwandb\u001b[0m: Appending key for api.wandb.ai to your netrc file: /root/.netrc\n",
            "\u001b[34m\u001b[1mwandb\u001b[0m: Currently logged in as: \u001b[33mmihikabairathi\u001b[0m (\u001b[33mmihikabairathi-personal\u001b[0m) to \u001b[32mhttps://api.wandb.ai\u001b[0m. Use \u001b[1m`wandb login --relogin`\u001b[0m to force relogin\n"
          ]
        },
        {
          "data": {
            "text/plain": [
              "True"
            ]
          },
          "execution_count": 7,
          "metadata": {},
          "output_type": "execute_result"
        }
      ],
      "source": [
        "login(userdata.get('HF_TOKEN'))\n",
        "wandb.login(key=userdata.get('WANDB_TOKEN'))"
      ]
    },
    {
      "cell_type": "code",
      "execution_count": null,
      "id": "n9_H2XxKzjEL",
      "metadata": {
        "id": "n9_H2XxKzjEL"
      },
      "outputs": [],
      "source": [
        "os.environ[\"PYTORCH_CUDA_ALLOC_CONF\"] = \"expandable_segments:True\""
      ]
    },
    {
      "cell_type": "code",
      "execution_count": null,
      "id": "K_zNtW0CB5Zc",
      "metadata": {
        "colab": {
          "base_uri": "https://localhost:8080/"
        },
        "id": "K_zNtW0CB5Zc",
        "outputId": "ddedc2ed-1a8a-489c-e840-25b079de0790"
      },
      "outputs": [
        {
          "data": {
            "application/vnd.jupyter.widget-view+json": {
              "model_id": "b258f959fa3b4b98b431b05faacdc5a7",
              "version_major": 2,
              "version_minor": 0
            },
            "text/plain": [
              "Downloading builder script:   0%|          | 0.00/6.27k [00:00<?, ?B/s]"
            ]
          },
          "metadata": {},
          "output_type": "display_data"
        },
        {
          "data": {
            "application/vnd.jupyter.widget-view+json": {
              "model_id": "a4ff13a7ced3414eab2ea645ea7c05d0",
              "version_major": 2,
              "version_minor": 0
            },
            "text/plain": [
              "Downloading builder script:   0%|          | 0.00/7.95k [00:00<?, ?B/s]"
            ]
          },
          "metadata": {},
          "output_type": "display_data"
        },
        {
          "data": {
            "application/vnd.jupyter.widget-view+json": {
              "model_id": "0cb1f488dd794d61980dc78dd3517349",
              "version_major": 2,
              "version_minor": 0
            },
            "text/plain": [
              "Downloading builder script:   0%|          | 0.00/5.94k [00:00<?, ?B/s]"
            ]
          },
          "metadata": {},
          "output_type": "display_data"
        },
        {
          "data": {
            "application/vnd.jupyter.widget-view+json": {
              "model_id": "c005152b8a6c41ebaef5866e4dae2d13",
              "version_major": 2,
              "version_minor": 0
            },
            "text/plain": [
              "Downloading extra modules:   0%|          | 0.00/1.55k [00:00<?, ?B/s]"
            ]
          },
          "metadata": {},
          "output_type": "display_data"
        },
        {
          "data": {
            "application/vnd.jupyter.widget-view+json": {
              "model_id": "711e5f16d2974ba7a09066f146cf1ec6",
              "version_major": 2,
              "version_minor": 0
            },
            "text/plain": [
              "Downloading extra modules:   0%|          | 0.00/3.34k [00:00<?, ?B/s]"
            ]
          },
          "metadata": {},
          "output_type": "display_data"
        }
      ],
      "source": [
        "rouge_score = evaluate.load(\"rouge\")\n",
        "bert_score = evaluate.load(\"bertscore\")\n",
        "bleu_score = evaluate.load(\"bleu\")"
      ]
    },
    {
      "cell_type": "code",
      "execution_count": null,
      "id": "afkIY9sIt5Jo",
      "metadata": {
        "colab": {
          "base_uri": "https://localhost:8080/"
        },
        "id": "afkIY9sIt5Jo",
        "outputId": "a1a8cebd-8b5d-4b2b-8b21-4b0d53846e81"
      },
      "outputs": [
        {
          "name": "stderr",
          "output_type": "stream",
          "text": [
            "[nltk_data] Downloading package words to /root/nltk_data...\n",
            "[nltk_data]   Unzipping corpora/words.zip.\n"
          ]
        }
      ],
      "source": [
        "nltk.download('words')\n",
        "correct_words = nltk.corpus.words.words()"
      ]
    },
    {
      "cell_type": "markdown",
      "id": "dB9OmVYmDAcH",
      "metadata": {
        "id": "dB9OmVYmDAcH"
      },
      "source": [
        "## Things to Configure"
      ]
    },
    {
      "cell_type": "code",
      "execution_count": null,
      "id": "IOJCX0aUDCjB",
      "metadata": {
        "id": "IOJCX0aUDCjB"
      },
      "outputs": [],
      "source": [
        "MODEL_NAME = \"meta-llama/Llama-3.1-8B-Instruct\"\n",
        "BASE_OUTPUT_DIR = \"/content/drive/MyDrive/RC\"\n",
        "OUTPUT_DIR = BASE_OUTPUT_DIR + \"/trainer_output\"\n",
        "TEST_FILE_DIR = f'{BASE_OUTPUT_DIR}/test_dataset.csv'\n",
        "HEADNOTES_OUTPUT_DIR = f'{BASE_OUTPUT_DIR}/test_dataset_results.csv'\n",
        "RUN_NAME = \"final_run_meta\"\n",
        "LORA_R = 32\n",
        "LORA_ALPHA = 64\n",
        "GRADIENT_ACCUMULATION_STEPS = 16\n",
        "NUM_TRAIN_EPOCHS = 5\n",
        "LEARNING_RATE = 1e-4"
      ]
    },
    {
      "cell_type": "markdown",
      "id": "7fa6b1ba",
      "metadata": {
        "id": "7fa6b1ba"
      },
      "source": [
        "## Data Selection"
      ]
    },
    {
      "cell_type": "code",
      "execution_count": null,
      "id": "4b6c68cf",
      "metadata": {
        "colab": {
          "base_uri": "https://localhost:8080/"
        },
        "id": "4b6c68cf",
        "outputId": "3cef2532-7556-467f-870a-21a485ba7991"
      },
      "outputs": [
        {
          "data": {
            "text/html": [
              "<div>\n",
              "<style scoped>\n",
              "    .dataframe tbody tr th:only-of-type {\n",
              "        vertical-align: middle;\n",
              "    }\n",
              "\n",
              "    .dataframe tbody tr th {\n",
              "        vertical-align: top;\n",
              "    }\n",
              "\n",
              "    .dataframe thead th {\n",
              "        text-align: right;\n",
              "    }\n",
              "</style>\n",
              "<table border=\"1\" class=\"dataframe\">\n",
              "  <thead>\n",
              "    <tr style=\"text-align: right;\">\n",
              "      <th></th>\n",
              "      <th>count</th>\n",
              "    </tr>\n",
              "    <tr>\n",
              "      <th>cleaned_response</th>\n",
              "      <th></th>\n",
              "    </tr>\n",
              "  </thead>\n",
              "  <tbody>\n",
              "    <tr>\n",
              "      <th>MEDIUM</th>\n",
              "      <td>5618</td>\n",
              "    </tr>\n",
              "    <tr>\n",
              "      <th>GREAT</th>\n",
              "      <td>1180</td>\n",
              "    </tr>\n",
              "    <tr>\n",
              "      <th>POOR</th>\n",
              "      <td>216</td>\n",
              "    </tr>\n",
              "    <tr>\n",
              "      <th>INVALID RESPONSE</th>\n",
              "      <td>62</td>\n",
              "    </tr>\n",
              "  </tbody>\n",
              "</table>\n",
              "</div><br><label><b>dtype:</b> int64</label>"
            ],
            "text/plain": [
              "cleaned_response\n",
              "MEDIUM              5618\n",
              "GREAT               1180\n",
              "POOR                 216\n",
              "INVALID RESPONSE      62\n",
              "Name: count, dtype: int64"
            ]
          },
          "execution_count": 12,
          "metadata": {},
          "output_type": "execute_result"
        }
      ],
      "source": [
        "df = pd.read_csv(f'{BASE_OUTPUT_DIR}/judgements_and_graded_headnotes.csv')\n",
        "df.drop_duplicates(subset=['headnote'], inplace=True)\n",
        "df.dropna(inplace=True)\n",
        "df[\"cleaned_response\"].value_counts()"
      ]
    },
    {
      "cell_type": "code",
      "execution_count": null,
      "id": "58ccce3e",
      "metadata": {
        "colab": {
          "base_uri": "https://localhost:8080/"
        },
        "id": "58ccce3e",
        "outputId": "80938681-61b3-483e-9647-3f8af6595120"
      },
      "outputs": [
        {
          "data": {
            "application/vnd.google.colaboratory.intrinsic+json": {
              "summary": "{\n  \"name\": \"df\",\n  \"rows\": 4,\n  \"fields\": [\n    {\n      \"column\": \"input\",\n      \"properties\": {\n        \"dtype\": \"string\",\n        \"num_unique_values\": 4,\n        \"samples\": [\n          6798,\n          \"2\",\n          \"7978\"\n        ],\n        \"semantic_type\": \"\",\n        \"description\": \"\"\n      }\n    },\n    {\n      \"column\": \"output\",\n      \"properties\": {\n        \"dtype\": \"string\",\n        \"num_unique_values\": 4,\n        \"samples\": [\n          6798,\n          \"2\",\n          \"7978\"\n        ],\n        \"semantic_type\": \"\",\n        \"description\": \"\"\n      }\n    },\n    {\n      \"column\": \"instruction\",\n      \"properties\": {\n        \"dtype\": \"string\",\n        \"num_unique_values\": 3,\n        \"samples\": [\n          \"7978\",\n          1,\n          \"Case judgements represent rulings issued by judges in judicial proceedings, often comprising extensive transcripts spanning dozens of pages.\\nYour task is to compose the headnote for the given case judgement. An excellent headnote captures the core of the judgment properly, succinctly, and completely.\\n\\nHere are the core elements of a headnote:\\n- PAST TENSE: The headnote is written in the past tense.\\n- METADATA: The headnote includes the case name, judgement number, court, judge(s), and date of judgement.\\n- INTRODUCTION: The headnote introduction describes the field of law that the case deals with, and does not directly jump into the case details.\\n- KEY FACTS: The headnote includes who filed the case, why the case was filed, and what remedy the filer wants.\\n- KEY ARGUMENTS: The headnote includes both sides' submissions and reasons to support their position.\\n- RELEVANT LAWS: The headnote references relevant legislation and concepts to support the case judgement.\\n- CONCLUSION: The headnote includes the case's conclusion and procedural disposition (ex: permitted, dismissed, reversed, remanded, affirmed, etc.).\\n\\nVERY IMPORTANT: Do not generate multiple paragraphs or sections. Write a single paragraph that does not exceed 800 words, or a single page.\\n\"\n        ],\n        \"semantic_type\": \"\",\n        \"description\": \"\"\n      }\n    }\n  ]\n}",
              "type": "dataframe"
            },
            "text/html": [
              "\n",
              "  <div id=\"df-68468e8e-bd6d-44d5-b61f-cc1e9247d8f8\" class=\"colab-df-container\">\n",
              "    <div>\n",
              "<style scoped>\n",
              "    .dataframe tbody tr th:only-of-type {\n",
              "        vertical-align: middle;\n",
              "    }\n",
              "\n",
              "    .dataframe tbody tr th {\n",
              "        vertical-align: top;\n",
              "    }\n",
              "\n",
              "    .dataframe thead th {\n",
              "        text-align: right;\n",
              "    }\n",
              "</style>\n",
              "<table border=\"1\" class=\"dataframe\">\n",
              "  <thead>\n",
              "    <tr style=\"text-align: right;\">\n",
              "      <th></th>\n",
              "      <th>input</th>\n",
              "      <th>output</th>\n",
              "      <th>instruction</th>\n",
              "    </tr>\n",
              "  </thead>\n",
              "  <tbody>\n",
              "    <tr>\n",
              "      <th>count</th>\n",
              "      <td>7978</td>\n",
              "      <td>7978</td>\n",
              "      <td>7978</td>\n",
              "    </tr>\n",
              "    <tr>\n",
              "      <th>unique</th>\n",
              "      <td>6798</td>\n",
              "      <td>6798</td>\n",
              "      <td>1</td>\n",
              "    </tr>\n",
              "    <tr>\n",
              "      <th>top</th>\n",
              "      <td>No. LIX of 1949.\\nAppeal from the judgment of ...</td>\n",
              "      <td>In construing a document whether in English or...</td>\n",
              "      <td>Case judgements represent rulings issued by ju...</td>\n",
              "    </tr>\n",
              "    <tr>\n",
              "      <th>freq</th>\n",
              "      <td>2</td>\n",
              "      <td>2</td>\n",
              "      <td>7978</td>\n",
              "    </tr>\n",
              "  </tbody>\n",
              "</table>\n",
              "</div>\n",
              "    <div class=\"colab-df-buttons\">\n",
              "\n",
              "  <div class=\"colab-df-container\">\n",
              "    <button class=\"colab-df-convert\" onclick=\"convertToInteractive('df-68468e8e-bd6d-44d5-b61f-cc1e9247d8f8')\"\n",
              "            title=\"Convert this dataframe to an interactive table.\"\n",
              "            style=\"display:none;\">\n",
              "\n",
              "  <svg xmlns=\"http://www.w3.org/2000/svg\" height=\"24px\" viewBox=\"0 -960 960 960\">\n",
              "    <path d=\"M120-120v-720h720v720H120Zm60-500h600v-160H180v160Zm220 220h160v-160H400v160Zm0 220h160v-160H400v160ZM180-400h160v-160H180v160Zm440 0h160v-160H620v160ZM180-180h160v-160H180v160Zm440 0h160v-160H620v160Z\"/>\n",
              "  </svg>\n",
              "    </button>\n",
              "\n",
              "  <style>\n",
              "    .colab-df-container {\n",
              "      display:flex;\n",
              "      gap: 12px;\n",
              "    }\n",
              "\n",
              "    .colab-df-convert {\n",
              "      background-color: #E8F0FE;\n",
              "      border: none;\n",
              "      border-radius: 50%;\n",
              "      cursor: pointer;\n",
              "      display: none;\n",
              "      fill: #1967D2;\n",
              "      height: 32px;\n",
              "      padding: 0 0 0 0;\n",
              "      width: 32px;\n",
              "    }\n",
              "\n",
              "    .colab-df-convert:hover {\n",
              "      background-color: #E2EBFA;\n",
              "      box-shadow: 0px 1px 2px rgba(60, 64, 67, 0.3), 0px 1px 3px 1px rgba(60, 64, 67, 0.15);\n",
              "      fill: #174EA6;\n",
              "    }\n",
              "\n",
              "    .colab-df-buttons div {\n",
              "      margin-bottom: 4px;\n",
              "    }\n",
              "\n",
              "    [theme=dark] .colab-df-convert {\n",
              "      background-color: #3B4455;\n",
              "      fill: #D2E3FC;\n",
              "    }\n",
              "\n",
              "    [theme=dark] .colab-df-convert:hover {\n",
              "      background-color: #434B5C;\n",
              "      box-shadow: 0px 1px 3px 1px rgba(0, 0, 0, 0.15);\n",
              "      filter: drop-shadow(0px 1px 2px rgba(0, 0, 0, 0.3));\n",
              "      fill: #FFFFFF;\n",
              "    }\n",
              "  </style>\n",
              "\n",
              "    <script>\n",
              "      const buttonEl =\n",
              "        document.querySelector('#df-68468e8e-bd6d-44d5-b61f-cc1e9247d8f8 button.colab-df-convert');\n",
              "      buttonEl.style.display =\n",
              "        google.colab.kernel.accessAllowed ? 'block' : 'none';\n",
              "\n",
              "      async function convertToInteractive(key) {\n",
              "        const element = document.querySelector('#df-68468e8e-bd6d-44d5-b61f-cc1e9247d8f8');\n",
              "        const dataTable =\n",
              "          await google.colab.kernel.invokeFunction('convertToInteractive',\n",
              "                                                    [key], {});\n",
              "        if (!dataTable) return;\n",
              "\n",
              "        const docLinkHtml = 'Like what you see? Visit the ' +\n",
              "          '<a target=\"_blank\" href=https://colab.research.google.com/notebooks/data_table.ipynb>data table notebook</a>'\n",
              "          + ' to learn more about interactive tables.';\n",
              "        element.innerHTML = '';\n",
              "        dataTable['output_type'] = 'display_data';\n",
              "        await google.colab.output.renderOutput(dataTable, element);\n",
              "        const docLink = document.createElement('div');\n",
              "        docLink.innerHTML = docLinkHtml;\n",
              "        element.appendChild(docLink);\n",
              "      }\n",
              "    </script>\n",
              "  </div>\n",
              "\n",
              "\n",
              "    <div id=\"df-21bf97dd-731d-48a1-ae12-0cd02ca525ef\">\n",
              "      <button class=\"colab-df-quickchart\" onclick=\"quickchart('df-21bf97dd-731d-48a1-ae12-0cd02ca525ef')\"\n",
              "                title=\"Suggest charts\"\n",
              "                style=\"display:none;\">\n",
              "\n",
              "<svg xmlns=\"http://www.w3.org/2000/svg\" height=\"24px\"viewBox=\"0 0 24 24\"\n",
              "     width=\"24px\">\n",
              "    <g>\n",
              "        <path d=\"M19 3H5c-1.1 0-2 .9-2 2v14c0 1.1.9 2 2 2h14c1.1 0 2-.9 2-2V5c0-1.1-.9-2-2-2zM9 17H7v-7h2v7zm4 0h-2V7h2v10zm4 0h-2v-4h2v4z\"/>\n",
              "    </g>\n",
              "</svg>\n",
              "      </button>\n",
              "\n",
              "<style>\n",
              "  .colab-df-quickchart {\n",
              "      --bg-color: #E8F0FE;\n",
              "      --fill-color: #1967D2;\n",
              "      --hover-bg-color: #E2EBFA;\n",
              "      --hover-fill-color: #174EA6;\n",
              "      --disabled-fill-color: #AAA;\n",
              "      --disabled-bg-color: #DDD;\n",
              "  }\n",
              "\n",
              "  [theme=dark] .colab-df-quickchart {\n",
              "      --bg-color: #3B4455;\n",
              "      --fill-color: #D2E3FC;\n",
              "      --hover-bg-color: #434B5C;\n",
              "      --hover-fill-color: #FFFFFF;\n",
              "      --disabled-bg-color: #3B4455;\n",
              "      --disabled-fill-color: #666;\n",
              "  }\n",
              "\n",
              "  .colab-df-quickchart {\n",
              "    background-color: var(--bg-color);\n",
              "    border: none;\n",
              "    border-radius: 50%;\n",
              "    cursor: pointer;\n",
              "    display: none;\n",
              "    fill: var(--fill-color);\n",
              "    height: 32px;\n",
              "    padding: 0;\n",
              "    width: 32px;\n",
              "  }\n",
              "\n",
              "  .colab-df-quickchart:hover {\n",
              "    background-color: var(--hover-bg-color);\n",
              "    box-shadow: 0 1px 2px rgba(60, 64, 67, 0.3), 0 1px 3px 1px rgba(60, 64, 67, 0.15);\n",
              "    fill: var(--button-hover-fill-color);\n",
              "  }\n",
              "\n",
              "  .colab-df-quickchart-complete:disabled,\n",
              "  .colab-df-quickchart-complete:disabled:hover {\n",
              "    background-color: var(--disabled-bg-color);\n",
              "    fill: var(--disabled-fill-color);\n",
              "    box-shadow: none;\n",
              "  }\n",
              "\n",
              "  .colab-df-spinner {\n",
              "    border: 2px solid var(--fill-color);\n",
              "    border-color: transparent;\n",
              "    border-bottom-color: var(--fill-color);\n",
              "    animation:\n",
              "      spin 1s steps(1) infinite;\n",
              "  }\n",
              "\n",
              "  @keyframes spin {\n",
              "    0% {\n",
              "      border-color: transparent;\n",
              "      border-bottom-color: var(--fill-color);\n",
              "      border-left-color: var(--fill-color);\n",
              "    }\n",
              "    20% {\n",
              "      border-color: transparent;\n",
              "      border-left-color: var(--fill-color);\n",
              "      border-top-color: var(--fill-color);\n",
              "    }\n",
              "    30% {\n",
              "      border-color: transparent;\n",
              "      border-left-color: var(--fill-color);\n",
              "      border-top-color: var(--fill-color);\n",
              "      border-right-color: var(--fill-color);\n",
              "    }\n",
              "    40% {\n",
              "      border-color: transparent;\n",
              "      border-right-color: var(--fill-color);\n",
              "      border-top-color: var(--fill-color);\n",
              "    }\n",
              "    60% {\n",
              "      border-color: transparent;\n",
              "      border-right-color: var(--fill-color);\n",
              "    }\n",
              "    80% {\n",
              "      border-color: transparent;\n",
              "      border-right-color: var(--fill-color);\n",
              "      border-bottom-color: var(--fill-color);\n",
              "    }\n",
              "    90% {\n",
              "      border-color: transparent;\n",
              "      border-bottom-color: var(--fill-color);\n",
              "    }\n",
              "  }\n",
              "</style>\n",
              "\n",
              "      <script>\n",
              "        async function quickchart(key) {\n",
              "          const quickchartButtonEl =\n",
              "            document.querySelector('#' + key + ' button');\n",
              "          quickchartButtonEl.disabled = true;  // To prevent multiple clicks.\n",
              "          quickchartButtonEl.classList.add('colab-df-spinner');\n",
              "          try {\n",
              "            const charts = await google.colab.kernel.invokeFunction(\n",
              "                'suggestCharts', [key], {});\n",
              "          } catch (error) {\n",
              "            console.error('Error during call to suggestCharts:', error);\n",
              "          }\n",
              "          quickchartButtonEl.classList.remove('colab-df-spinner');\n",
              "          quickchartButtonEl.classList.add('colab-df-quickchart-complete');\n",
              "        }\n",
              "        (() => {\n",
              "          let quickchartButtonEl =\n",
              "            document.querySelector('#df-21bf97dd-731d-48a1-ae12-0cd02ca525ef button');\n",
              "          quickchartButtonEl.style.display =\n",
              "            google.colab.kernel.accessAllowed ? 'block' : 'none';\n",
              "        })();\n",
              "      </script>\n",
              "    </div>\n",
              "\n",
              "    </div>\n",
              "  </div>\n"
            ],
            "text/plain": [
              "                                                    input  \\\n",
              "count                                                7978   \n",
              "unique                                               6798   \n",
              "top     No. LIX of 1949.\\nAppeal from the judgment of ...   \n",
              "freq                                                    2   \n",
              "\n",
              "                                                   output  \\\n",
              "count                                                7978   \n",
              "unique                                               6798   \n",
              "top     In construing a document whether in English or...   \n",
              "freq                                                    2   \n",
              "\n",
              "                                              instruction  \n",
              "count                                                7978  \n",
              "unique                                                  1  \n",
              "top     Case judgements represent rulings issued by ju...  \n",
              "freq                                                 7978  "
            ]
          },
          "execution_count": 13,
          "metadata": {},
          "output_type": "execute_result"
        }
      ],
      "source": [
        "# only keep the rows with great or medium headnotes, oversample the great headnotes\n",
        "df = df[(df[\"cleaned_response\"] != \"POOR\") & (df[\"cleaned_response\"] != \"INVALID RESPONSE\")]\n",
        "good_df = df[df[\"cleaned_response\"] == \"GREAT\"]\n",
        "df = pd.concat([df, good_df])\n",
        "df.drop(columns=[\"cleaned_response\", \"response\"], inplace=True)\n",
        "\n",
        "# format the columns into an Alpaca-style dataset for fine-tuning\n",
        "df.rename(columns={\"judgement\": \"input\", \"headnote\": \"output\"}, inplace=True)\n",
        "df[\"instruction\"] = df.apply(lambda row: INSTRUCTION, axis=1)\n",
        "df.describe()"
      ]
    },
    {
      "cell_type": "markdown",
      "id": "72f684af",
      "metadata": {
        "id": "72f684af"
      },
      "source": [
        "## Data Tokenization"
      ]
    },
    {
      "cell_type": "code",
      "execution_count": null,
      "id": "16cf3462",
      "metadata": {
        "colab": {
          "base_uri": "https://localhost:8080/",
          "height": 113
        },
        "id": "16cf3462",
        "outputId": "7fe5cda9-4091-4980-c2b8-befc6545caff"
      },
      "outputs": [
        {
          "data": {
            "application/vnd.jupyter.widget-view+json": {
              "model_id": "66a7a9d354524f91b6fbdf8765f0eda9",
              "version_major": 2,
              "version_minor": 0
            },
            "text/plain": [
              "tokenizer_config.json:   0%|          | 0.00/55.4k [00:00<?, ?B/s]"
            ]
          },
          "metadata": {},
          "output_type": "display_data"
        },
        {
          "data": {
            "application/vnd.jupyter.widget-view+json": {
              "model_id": "82873dfc3955499c9318d057bb8750b4",
              "version_major": 2,
              "version_minor": 0
            },
            "text/plain": [
              "tokenizer.json:   0%|          | 0.00/9.09M [00:00<?, ?B/s]"
            ]
          },
          "metadata": {},
          "output_type": "display_data"
        },
        {
          "data": {
            "application/vnd.jupyter.widget-view+json": {
              "model_id": "85717c5c0770438cbd926298f6efe764",
              "version_major": 2,
              "version_minor": 0
            },
            "text/plain": [
              "special_tokens_map.json:   0%|          | 0.00/296 [00:00<?, ?B/s]"
            ]
          },
          "metadata": {},
          "output_type": "display_data"
        }
      ],
      "source": [
        "tokenizer = AutoTokenizer.from_pretrained(MODEL_NAME)\n",
        "tokenizer.pad_token = tokenizer.pad_token or tokenizer.eos_token"
      ]
    },
    {
      "cell_type": "code",
      "execution_count": null,
      "id": "8TuAIs4DRR38",
      "metadata": {
        "id": "8TuAIs4DRR38"
      },
      "outputs": [],
      "source": [
        "def tokenize_entry(data_entries, use_output=True):\n",
        "    prompts = []\n",
        "    for instruction, input, output in zip(data_entries['instruction'], data_entries['input'], data_entries['output']):\n",
        "      if not use_output:\n",
        "        output = \"\"\n",
        "      prompts.append(f\"\"\"\\\n",
        "        Below is an instruction that describes a task, paired with an input that provides further context. Write a response that appropriately completes the request.\n",
        "\n",
        "        ### Instruction:\n",
        "        {instruction}\n",
        "\n",
        "        ### Input:\n",
        "        {input}\n",
        "\n",
        "        ### Response:\n",
        "        {output}\n",
        "      \"\"\"\n",
        "    )\n",
        "\n",
        "    # no need to pad here, we will use the collator later for dynamic padding\n",
        "    # better option since the input lengths are so variable\n",
        "    tokenized_entries = tokenizer(prompts)\n",
        "    return tokenized_entries"
      ]
    },
    {
      "cell_type": "code",
      "execution_count": null,
      "id": "wBAQrNQ0ZxRy",
      "metadata": {
        "colab": {
          "base_uri": "https://localhost:8080/"
        },
        "id": "wBAQrNQ0ZxRy",
        "outputId": "48cf1530-ac80-4b44-d107-5297585c2869"
      },
      "outputs": [
        {
          "data": {
            "application/vnd.jupyter.widget-view+json": {
              "model_id": "7266e946388d4e9e993b43f699a2aa71",
              "version_major": 2,
              "version_minor": 0
            },
            "text/plain": [
              "Map:   0%|          | 0/7978 [00:00<?, ? examples/s]"
            ]
          },
          "metadata": {},
          "output_type": "display_data"
        },
        {
          "data": {
            "application/vnd.jupyter.widget-view+json": {
              "model_id": "4eea3de28f5d46ff8d30c40b840ae3bc",
              "version_major": 2,
              "version_minor": 0
            },
            "text/plain": [
              "Filter:   0%|          | 0/7978 [00:00<?, ? examples/s]"
            ]
          },
          "metadata": {},
          "output_type": "display_data"
        }
      ],
      "source": [
        "ds = Dataset.from_pandas(df)\n",
        "ds = ds.remove_columns(\"__index_level_0__\")\n",
        "ds = ds.map(tokenize_entry, batched=True)\n",
        "\n",
        "# due to excessive GPU usage, we will not consider inputs with too many tokens\n",
        "ds = ds.filter(lambda example: len(example['input_ids']) < TOKENIZER_CUTOFF)"
      ]
    },
    {
      "cell_type": "code",
      "execution_count": null,
      "id": "f1701bb1",
      "metadata": {
        "colab": {
          "base_uri": "https://localhost:8080/"
        },
        "id": "f1701bb1",
        "outputId": "4d8694e2-41f6-4f8a-a52b-8dfdf8a248fb"
      },
      "outputs": [
        {
          "data": {
            "text/plain": [
              "DatasetDict({\n",
              "    train: Dataset({\n",
              "        features: ['input', 'output', 'instruction', 'input_ids', 'attention_mask'],\n",
              "        num_rows: 5574\n",
              "    })\n",
              "    eval: Dataset({\n",
              "        features: ['input', 'output', 'instruction', 'input_ids', 'attention_mask'],\n",
              "        num_rows: 697\n",
              "    })\n",
              "    test: Dataset({\n",
              "        features: ['input', 'output', 'instruction'],\n",
              "        num_rows: 697\n",
              "    })\n",
              "})"
            ]
          },
          "execution_count": 17,
          "metadata": {},
          "output_type": "execute_result"
        }
      ],
      "source": [
        "train_split = ds.train_test_split(test_size=0.2, shuffle=True, seed=SEED)\n",
        "test_split = train_split[\"test\"].train_test_split(test_size=0.5, shuffle=True, seed=SEED)\n",
        "\n",
        "split_ds = DatasetDict({\"train\": train_split[\"train\"], \"eval\": test_split[\"train\"], \"test\": test_split[\"test\"]})\n",
        "split_ds['test'] = split_ds['test'].remove_columns(['input_ids', 'attention_mask'])\n",
        "split_ds"
      ]
    },
    {
      "cell_type": "markdown",
      "id": "mJOyX4YPeN1q",
      "metadata": {
        "id": "mJOyX4YPeN1q"
      },
      "source": [
        "## Train the Model"
      ]
    },
    {
      "cell_type": "code",
      "execution_count": null,
      "id": "TYlbPuYEunvk",
      "metadata": {
        "colab": {
          "base_uri": "https://localhost:8080/",
          "height": 323
        },
        "collapsed": true,
        "id": "TYlbPuYEunvk",
        "outputId": "66fbe698-2ff7-44f7-a10c-7996eaa78645"
      },
      "outputs": [
        {
          "data": {
            "application/vnd.jupyter.widget-view+json": {
              "model_id": "fc3889e57c5d4c46a8197854bbf07bd8",
              "version_major": 2,
              "version_minor": 0
            },
            "text/plain": [
              "config.json:   0%|          | 0.00/855 [00:00<?, ?B/s]"
            ]
          },
          "metadata": {},
          "output_type": "display_data"
        },
        {
          "data": {
            "application/vnd.jupyter.widget-view+json": {
              "model_id": "6ee9d1d202824bfe8a7c97a2e99b8be7",
              "version_major": 2,
              "version_minor": 0
            },
            "text/plain": [
              "model.safetensors.index.json:   0%|          | 0.00/23.9k [00:00<?, ?B/s]"
            ]
          },
          "metadata": {},
          "output_type": "display_data"
        },
        {
          "data": {
            "application/vnd.jupyter.widget-view+json": {
              "model_id": "87c600bff5c54c53b43be30ff83c45ed",
              "version_major": 2,
              "version_minor": 0
            },
            "text/plain": [
              "Fetching 4 files:   0%|          | 0/4 [00:00<?, ?it/s]"
            ]
          },
          "metadata": {},
          "output_type": "display_data"
        },
        {
          "data": {
            "application/vnd.jupyter.widget-view+json": {
              "model_id": "24679aa1e8a240f8b2450076682da2a8",
              "version_major": 2,
              "version_minor": 0
            },
            "text/plain": [
              "model-00004-of-00004.safetensors:   0%|          | 0.00/1.17G [00:00<?, ?B/s]"
            ]
          },
          "metadata": {},
          "output_type": "display_data"
        },
        {
          "data": {
            "application/vnd.jupyter.widget-view+json": {
              "model_id": "859421685ede4fe6809a48d857bee304",
              "version_major": 2,
              "version_minor": 0
            },
            "text/plain": [
              "model-00003-of-00004.safetensors:   0%|          | 0.00/4.92G [00:00<?, ?B/s]"
            ]
          },
          "metadata": {},
          "output_type": "display_data"
        },
        {
          "data": {
            "application/vnd.jupyter.widget-view+json": {
              "model_id": "7e4748a023cf47858a88c79f9d3b53cc",
              "version_major": 2,
              "version_minor": 0
            },
            "text/plain": [
              "model-00002-of-00004.safetensors:   0%|          | 0.00/5.00G [00:00<?, ?B/s]"
            ]
          },
          "metadata": {},
          "output_type": "display_data"
        },
        {
          "data": {
            "application/vnd.jupyter.widget-view+json": {
              "model_id": "2e102fff830542328a532fe84f47e141",
              "version_major": 2,
              "version_minor": 0
            },
            "text/plain": [
              "model-00001-of-00004.safetensors:   0%|          | 0.00/4.98G [00:00<?, ?B/s]"
            ]
          },
          "metadata": {},
          "output_type": "display_data"
        },
        {
          "data": {
            "application/vnd.jupyter.widget-view+json": {
              "model_id": "3855e2cf943a49c2b4f0a384289b045b",
              "version_major": 2,
              "version_minor": 0
            },
            "text/plain": [
              "Loading checkpoint shards:   0%|          | 0/4 [00:00<?, ?it/s]"
            ]
          },
          "metadata": {},
          "output_type": "display_data"
        },
        {
          "data": {
            "application/vnd.jupyter.widget-view+json": {
              "model_id": "25f6a770ddc94f749d545c572528210f",
              "version_major": 2,
              "version_minor": 0
            },
            "text/plain": [
              "generation_config.json:   0%|          | 0.00/184 [00:00<?, ?B/s]"
            ]
          },
          "metadata": {},
          "output_type": "display_data"
        },
        {
          "name": "stdout",
          "output_type": "stream",
          "text": [
            "trainable params: 83,886,080 || all params: 8,114,147,328 || trainable%: 1.0338\n"
          ]
        }
      ],
      "source": [
        "model = AutoModelForCausalLM.from_pretrained(\n",
        "    MODEL_NAME,\n",
        "    torch_dtype=torch.bfloat16,\n",
        "    device_map=\"auto\",\n",
        "    # for QLoRA\n",
        "    quantization_config=BitsAndBytesConfig(\n",
        "        load_in_4bit=True,\n",
        "        bnb_4bit_compute_dtype=torch.bfloat16,\n",
        "        # these next two parameters are being set since we are fine-tuning\n",
        "        bnb_4bit_quant_type=\"nf4\",\n",
        "        bnb_4bit_use_double_quant=True\n",
        "    )\n",
        ")\n",
        "model.config.use_cache = False\n",
        "\n",
        "model = prepare_model_for_kbit_training(model)\n",
        "model = get_peft_model(\n",
        "    model,\n",
        "    LoraConfig(\n",
        "      r=LORA_R,\n",
        "      lora_alpha=LORA_ALPHA,\n",
        "      lora_dropout=0.05,\n",
        "      target_modules=\"all-linear\",\n",
        "      bias=\"none\",\n",
        "      task_type=\"CAUSAL_LM\"\n",
        "    )\n",
        ")\n",
        "\n",
        "model.print_trainable_parameters()"
      ]
    },
    {
      "cell_type": "code",
      "execution_count": null,
      "id": "M8fh5GvheP2r",
      "metadata": {
        "colab": {
          "base_uri": "https://localhost:8080/"
        },
        "id": "M8fh5GvheP2r",
        "outputId": "f2c9c34a-f63f-4dac-9c88-33f6df74d465"
      },
      "outputs": [
        {
          "name": "stderr",
          "output_type": "stream",
          "text": [
            "No label_names provided for model class `PeftModelForCausalLM`. Since `PeftModel` hides base models input arguments, if label_names is not given, label_names can't be set automatically within `Trainer`. Note that empty label_names list will be used instead.\n"
          ]
        }
      ],
      "source": [
        "trainer = Trainer(\n",
        "    model=model,\n",
        "    data_collator=DataCollatorForLanguageModeling(tokenizer=tokenizer, mlm=False),\n",
        "    train_dataset=split_ds[\"train\"],\n",
        "    eval_dataset=split_ds[\"eval\"],\n",
        "    args=TrainingArguments(\n",
        "      do_train=True,\n",
        "      do_eval=True,\n",
        "      bf16=True,\n",
        "      load_best_model_at_end=True,\n",
        "      gradient_checkpointing=True,\n",
        "      group_by_length=True,\n",
        "      eval_on_start=True,\n",
        "\n",
        "      per_device_train_batch_size=1,\n",
        "      per_device_eval_batch_size=1,\n",
        "\n",
        "      report_to=\"wandb\",\n",
        "      run_name=RUN_NAME,\n",
        "\n",
        "      output_dir=OUTPUT_DIR,\n",
        "      eval_strategy='steps',\n",
        "      save_strategy='steps',\n",
        "      seed=SEED,\n",
        "      optim=\"adamw_bnb_8bit\",\n",
        "\n",
        "      neftune_noise_alpha=5,\n",
        "      save_total_limit=5,\n",
        "      logging_steps=100,\n",
        "      save_steps=100,\n",
        "      eval_steps=100,\n",
        "      warmup_ratio=0.01,\n",
        "\n",
        "      gradient_accumulation_steps=GRADIENT_ACCUMULATION_STEPS,\n",
        "      num_train_epochs=NUM_TRAIN_EPOCHS,\n",
        "      learning_rate=LEARNING_RATE\n",
        "    )\n",
        ")"
      ]
    },
    {
      "cell_type": "code",
      "execution_count": null,
      "id": "DmFhNagwLWdc",
      "metadata": {
        "colab": {
          "base_uri": "https://localhost:8080/",
          "height": 232
        },
        "id": "DmFhNagwLWdc",
        "outputId": "baadfa24-fe1d-43f7-a545-63f86278ee7d"
      },
      "outputs": [
        {
          "data": {
            "text/html": [
              "Tracking run with wandb version 0.19.11"
            ],
            "text/plain": [
              "<IPython.core.display.HTML object>"
            ]
          },
          "metadata": {},
          "output_type": "display_data"
        },
        {
          "data": {
            "text/html": [
              "Run data is saved locally in <code>/content/wandb/run-20250529_210433-64bpqzox</code>"
            ],
            "text/plain": [
              "<IPython.core.display.HTML object>"
            ]
          },
          "metadata": {},
          "output_type": "display_data"
        },
        {
          "data": {
            "text/html": [
              "Syncing run <strong><a href='https://wandb.ai/mihikabairathi-personal/huggingface/runs/64bpqzox' target=\"_blank\">final_run_meta</a></strong> to <a href='https://wandb.ai/mihikabairathi-personal/huggingface' target=\"_blank\">Weights & Biases</a> (<a href='https://wandb.me/developer-guide' target=\"_blank\">docs</a>)<br>"
            ],
            "text/plain": [
              "<IPython.core.display.HTML object>"
            ]
          },
          "metadata": {},
          "output_type": "display_data"
        },
        {
          "data": {
            "text/html": [
              " View project at <a href='https://wandb.ai/mihikabairathi-personal/huggingface' target=\"_blank\">https://wandb.ai/mihikabairathi-personal/huggingface</a>"
            ],
            "text/plain": [
              "<IPython.core.display.HTML object>"
            ]
          },
          "metadata": {},
          "output_type": "display_data"
        },
        {
          "data": {
            "text/html": [
              " View run at <a href='https://wandb.ai/mihikabairathi-personal/huggingface/runs/64bpqzox' target=\"_blank\">https://wandb.ai/mihikabairathi-personal/huggingface/runs/64bpqzox</a>"
            ],
            "text/plain": [
              "<IPython.core.display.HTML object>"
            ]
          },
          "metadata": {},
          "output_type": "display_data"
        },
        {
          "data": {
            "text/html": [
              "\n",
              "    <div>\n",
              "      \n",
              "      <progress value='1745' max='1745' style='width:300px; height:20px; vertical-align: middle;'></progress>\n",
              "      [1745/1745 : < :, Epoch 5/5]\n",
              "    </div>\n",
              "    <table border=\"1\" class=\"dataframe\">\n",
              "  <thead>\n",
              " <tr style=\"text-align: left;\">\n",
              "      <th>Step</th>\n",
              "      <th>Training Loss</th>\n",
              "      <th>Validation Loss</th>\n",
              "    </tr>\n",
              "  </thead>\n",
              "  <tbody>\n",
              "    <tr>\n",
              "      <td>1745</td>\n",
              "      <td>1.095400</td>\n",
              "      <td>1.276749</td>\n",
              "    </tr>\n",
              "  </tbody>\n",
              "</table><p>"
            ],
            "text/plain": [
              "<IPython.core.display.HTML object>"
            ]
          },
          "metadata": {},
          "output_type": "display_data"
        },
        {
          "name": "stderr",
          "output_type": "stream",
          "text": [
            "Could not locate the best model at /content/drive/MyDrive/RC/meta/trainer_output/checkpoint-1700/pytorch_model.bin, if you are running a distributed training on multiple nodes, you should activate `--save_on_each_node`.\n"
          ]
        }
      ],
      "source": [
        "resume_from_checkpoint = os.path.isdir(OUTPUT_DIR) and any(os.scandir(OUTPUT_DIR))\n",
        "trainer.train(resume_from_checkpoint=resume_from_checkpoint)\n",
        "trainer.save_model(OUTPUT_DIR)"
      ]
    },
    {
      "cell_type": "markdown",
      "id": "HSC7gCzXYnDg",
      "metadata": {
        "id": "HSC7gCzXYnDg"
      },
      "source": [
        "## Generate Test Headnotes"
      ]
    },
    {
      "cell_type": "code",
      "execution_count": null,
      "id": "HsZAo9Im3ciw",
      "metadata": {
        "colab": {
          "base_uri": "https://localhost:8080/"
        },
        "id": "HsZAo9Im3ciw",
        "outputId": "9284baa6-7b18-4a5b-aacd-7d886ca33c69"
      },
      "outputs": [
        {
          "name": "stdout",
          "output_type": "stream",
          "text": [
            "Number of records left to process: 130\n"
          ]
        },
        {
          "data": {
            "application/vnd.google.colaboratory.intrinsic+json": {
              "summary": "{\n  \"name\": \"test_df\",\n  \"rows\": 130,\n  \"fields\": [\n    {\n      \"column\": \"input\",\n      \"properties\": {\n        \"dtype\": \"string\",\n        \"num_unique_values\": 130,\n        \"samples\": [\n          \"No. 513 of 1970.\\nPetition under article 32 of the Constitution of India for writ in the nature of habeas corpus.\\nThe petitioner appeared in person.\\nP. Ram Reddy and P. P. Rao, for the respondent.\\nThe Judgment of the Court was delivered by Dua, J.\\nThe petitioner, A. Lakshmanrao, an Advocate practicing at Narasipatnam in the district of Visakhapatnam in the State of Andhra Pradesh has applied under article 32 of the Constitution for a writ of habeas corpus on the following averments The petitioner, while going home from the court, was arrested on 17th July, 1970 at about 12.30 in the afternoon.\\nHe was not shown any warrant at the time of his arrest.\\nHe was produced before a Judicial Magistrate, First Class, on 18th July and 824 remanded to judicial custody under section 167 (2), Cr.\\nP.C. for 15 days.\\nAt the time of remand he was informed by the Magistrate that he was accused of offenses under sections 120 B, 121 A 122 read with 302 and 395, I.P.C. in Crime No. 3 of 1970 (known as Parvatipuram Naxalite Conspiracy Case).\\nThis crime had been registered in January, 1970 in which more than 148 persons were sought to be proceeded against.\\nThe names of only 148 accused persons were specifically mentioned.\\nThe petitioner and one Dr. C. Ramadass were not specifically named.\\nThey were apparently included in the expression \\\"others\\\".\\nOn 30th March, 1970 a report was filed by the Investigating Officer describing it as a preliminary charge sheet in which it was stated that the investigation in the case had not been completed and several accused persons had yet to be traced.\\nThis report, according to the averments, does not fall under section 173(1), Cr.\\nP.C. Even in this preliminary charge sheet the names of the petitioner and Dr. Ramadass were not included.\\nOn 1st August when the period of the petitioner 's first remand expired, again no charge sheet was separately filed against him and Dr. C. Ramadass.\\nThe prosecution, however, sought extension of the period of remand.\\nWhen the petitioner objected to further remand a second preliminary charge sheet was presented to the court on that very day specifically including the petitioner 's name.\\nHis remand was thereupon extended upto 6th August and thereafter upto 20th August.\\nOn 20th August he was not produced in the court because of want of escort and the order of remand was made in his absence.\\nHe has expressed ignorance about the period of this remand.\\nThe present petition dated 22nd August, 1970 was forwarded to this Court through the Superintendent.\\nCentral Jail, Rajahmundry (Andhra Pradesh).\\nThe petitioner challenges the remand orders from the 1st August onwards and claims that his detention is illegal and that he is entitled to be set at liberty.\\nThe remand order dated 20th August, 1970 which was made in his absence because he could not be produced before the court on the ground of lack of escort is challenged on the further ground that the law does not permit remand orders without the actual production of the accused before the court: According to the petitioner who himself argued his case, section 344(1A), Cr.\\nP.C. does not contain any guidelines for the court in the matter of remand orders and he added that this section is otherwise too inapplicable to the investigation stage of criminal cases.\\nWhen his attention was drawn to the explanation to section 344, according to which the likelihood of further evidence being obtained by the remand in cases of suspicion against an accused person raised by the evidence already obtained, he contended that the 825 explanation could not, as a matter of law, serve to extend the scope of the substantive provision contained in sub section\\nOn this premise the petitioner questioned the vires of section 344(1A) and (2) and the explanation.\\nIn the counter affidavit sworn by the Judicial Magistrate in whose court the case against the petitioner is pending, while referring to the proceedings held on 1st August, 1970, it is affirmed that the petitioner and Dr. C. Ramadass were produced in court and it was submitted by them that since their names had not shown in the preliminary charge sheet the court had no power to extend the period of reman.\\nOn that very day the prosecution filed a second preliminary charge sheet in which the petitioner and Dr. C. Ramadass were shown as accused nos.\\n149 and 150 suspected of having committed offences under sections 120 B, 121A, 122 read with 302 and 395, I.P.C.\\nThe Court thereupon passed an order of remand in respect of both of them.\\nA bail application filed on behalf of the petitioner and Dr. C. Ramadass was thereafter argued by the petitioner and the matter was adjourned to 6th August, 1970 for orders when that application was disposed of.\\nOn behalf of the other respondents a lengthy affidavit has been sworn by section Veeranarayanareddi, Deputy Superintendent of Police, Crime Branch, C.I.D., Government of Andhra Pradesh, Hyderabad.\\nIt is affirmed in this affidavit that the petitioner is an active Naxalite and along with others is accused of charges under sections 120 B read with sections 302, 395, 397, 399, 364, 365, 368 and 386, I.P.C. in P.R.C. No. 3/70, pending in the Court of the Judicial First Class Magistrate, Parvatipuram Taluk.\\nA separate complaint under sections 121 A and 120 B read with 121, 122, 123 and 124A, I.P.C. is also stated to have been filed against the aforesaid persons including the petitioner in the same court in P.R.C. 8 of 1970.\\nThese two cases are known as Parvatipuram Naxalite Conspiracy Cases and relate to 46 murders, 82, dacoities, 99 attacks on police and 15 abductions committed by the accused persons in Andhra Pradesh.\\nThe accused persons are also alleged to have committed several offences of the types just mentioned in the Agency Tracts of Orissa bordering Andhra Pradesh.\\nThe Government of Andhra Pradesh had on account of the gravity of the situation declared certain areas affected by the Naxalite menace in Srikakulam and Warangal Districts as disturbed areas Under section 3 of the Andhra Pradesh Suppression of Disturbances Act, 1948.\\nIn the affidavit certain incidents have been traced from 1964 and it is affirmed that as a result of various political developments certain volunteers were recruited from various parts of Andhra Pradesh and the petitioner helped them in creating revolutionary bases in the agency tracts of Visakhapatnam District.\\nThere is also reference to one of the accused persons having become an approver and another having made a confes 826 sional statement.\\nAfter stating various facts discovered during investigation it is affirmed that the investigation of this case is limited not only to the State of Andhra Pradesh but it extends to several States where naxalite, movement has spread, including West Bengal and Orissa, and as many as 900 witnesses have already been examined during the course of investigation which has taken nearly nine months.\\nSanction of the State Government has also been ob tained for the prosecution of the petitioner and the other accused persons under section 196, Cr.\\nOn 12th October, 1970 the investigation was completed and a final charge sheet filed in the court of the Judicial Magistrate in P.R.C. No. 3 of 1970.\\nThe separate complaint against the petitioner and other accused persons mentioned earlier was also filed in the court of the Judicial Magistrate under sections 121A, 120B read with 121, 123 and 124A, I.P.C. on the same day.\\nIt is admitted that the preliminary charge sheet is not covered by section 173(1), Cr.\\nBut it is averred that it is only a report pending further investigation seeking extension of remand under section 344, Cr.\\nThe long period of investigation has been ascribed to the fact that there was an organised attempt on the part of the accused and their followers to thwart the, efforts of the authorities in bringing the accused to book.\\nIt is admitted that the peti tioner is lodged in Central Jail, Rajahmundry and that on 20th August, 1970 he could not be produced before the court for lack of escort.\\nThe; remand is also admitted to have been extended by the Magistrate, respondent No. 1, from time to time on 3rd and 17th September and 1st October, 1970.\\nThe court, it is pleaded, is empowered to pass an order of remand even in the absence of the accused under section 344, Cr.\\nP.C. unlike the remand order under section 167, Cr.\\nIncidentally, in this counter affidavit there is a reference to the prejudicial activities in which the petitioner has been indulging in connection with Naxalite movement.\\nThe initial non inclusion of his name in the array of accused persons ' has been explained on the ground that sufficient corroboration of the approver 's testimony incriminating the petitioner was not forthcoming at that stage.\\nIn so far as, the question of legality of the remand order dated 20th August, 1970 without producing the petitioner before a Magistrate is concerned, the point is concluded by a recent judgment of this Court in the case of Rai Narain vs Supdt.\\nCentral Jail, New Delhi(1).\\nIn that case this Court by majority expressed the view that as a matter of law personal presence of an accused person before a Magistrate is not a necessary requirement for the purpose of his remand under section 344, Cr.\\nP.C., at the instance of the police, though as a rule of caution it is highly desirable that the accused should be personally produced before the Magistrate so that he may, (1) 827 if he so chooses, make a representation against his remand and for, his release on bail.\\nThe Court on a review of the decided cases, observed \\\"There is nothing in the law which required his personal presence before the Magistrate because that is a rule of caution for Magistrates before granting remands at the instance of the police.\\nHowever, even if it be desirable for the Magistrates to have the prisoner produced before them, when they recommit him to further custody, a Magistrate can act only as the circumstances permit.\\n\\\" The order of remand dated 20th August, 1970 was in the circumstances not contrary to law so as to render the petitioner 's, custody illegal justifying his release by this Court on habeas corpus.\\nIt is unnecessary to point out that it was and still is open to the, petitioner to apply for his release on bail to the appropriate court in accordance with law there being no illegal obstacle in his way in this respect.\\nThe challenge to the constitutional validity of section 344(1A), Cr.\\nP.C. is also in our opinion misconceived.\\nSection 344 reads \\\" (1) In every inquiry or trial, the proceedings.\\nshall be held as expeditiously as possible and in particular, when the examination of witnesses, has once begun, the same shall be continued from day to day until all the witnesses in attendance have been examined, unless the Court finds the adjournment of the same beyond the following day to be necessary for reasons to be recorded.\\n(1 A) If, from the absence of a witness, or any other reasonable cause, it becomes necessary or advisable to postpone the commencement of, or adjourn, any inquiry or trial, the Court may, if it thinks fit, by order in writing, stating the reasons therefore, from time to time, postpone or adjourn the same on such terms as it thinks fit, for such time as it considers reasonable, and may by a warrant remand the accused if in custody: Provided that no Magistrate shall remand an accused person to custody under this section for a term exceeding fifteen days at a time Provided further that when witnesses are in attendance.\\nno adjournment or postponement shall be granted, without examining them, except for special reasons to be recorded in writing.\\n828 (2)Every order made under this section by a Court other than a High Court shall be in writing signed by the presiding Judge or Magistrate. ' Explanation.\\nIf sufficient evidence has been obtained to raise a suspicion that the accused may have committed an offence, and it appears likely that further evidence may be obtained by a remand, this is a reasonable cause for a remand.\\n\\\" Sub section (1 A) was originally numb. red as sub section 1 The present sub section (1) of section 344 was added by the Amending Act 26 of 1955 when the original sub section (1) was renumbered as sub section (1 A).\\nThe impugned sub section vests in the court seized of a criminal case power to postpone the commencement of or adjourn any inquiry or trial before him by order in writing stating the reasons therefore from time to time on such terms as the court thinks fit and for such time as it considers reasonable.\\nWhen the case is so postponed or adjourned the court may also by a warrant remand the accused, if in custody.\\nThis judicial power to postpone or, adjourn the proceedings is to be exercised only if from the absence of witnesses or any other reasonable cause the court considers it necessary or advisable to do so.\\nReasonable cause for remand according to, the explanation to this section covers a case where sufficient evidence is obtained to raise a suspicion about the complicity of an accused person in the offence and it appears likely that more evidence may be obtained by remand.\\nThe court has in the exercise of its judicial discretion in granting or declining postponement or adjournment of the case and in ordering remand of the accused, to keep in view all the relevant facts and circumstances of the case.\\nThe petitioner strongly contended that this section clothes the court with an unfettered, arbitrary and unguided power.\\nA plain reading of the section shows the untenability of the submission.\\nApart from the fact that it is only when either from the absence of a witness or some other reasonable cause the court, considers it either to be necessary or advisable to postpone the commencement of, the inquiry or trial or adjourn the hearing of the case that the order can be made, the court is also required to record the order in writing giving the reasons why it thinks fit that the case should be postponed or adjourned.\\nIt is further open to the court to impose terms and to fix the period which cannot exceed 15 days at one time.\\nThis discretion being vested in a court of law has to be exercised _judicially on well recognised principles, and is in our view immune from challenge on the ground of arbitrariness or want of guidelines.\\nIn our opinion, therefore, not only are the guidelines clearly contained in the statute but the discretion being judicial is required to be exercised on general principles guided by rules of reason and justice on the facts of each case, 829 and not in any arbitrary or fanciful manner.\\nIt may also be remembered that if the discretion is exercised in an arbitrary or un judicial manner remedy by way of resort to the higher courts is always open to the aggrieved party.\\nThe second limb of the challenge is based on the contention that section 344 falls in Chapter 24, Cr.\\nP.C. which contains general provisions as to inquiries and trials.\\nAccording to this submission this section cannot apply to a case which is at the stage of investigation and collection of evidence only.\\nThis argument appears to us to be negatived by the express language both of sub section\\n(1A) and the explanation.\\nUnder sub section\\n(1A) the commencement of the inquiry or trial can also be postponed.\\nThis clearly seems to refer to the stage prior to the commencement of the inquiry.\\nThe explanation makes it clear beyond doubt that reasonable cause as mentioned in sub section\\n(1A) includes the likelihood of obtaining further evidence during investigation by securing a remand.\\nThe language of section 344 is unambiguous and clear and the fact that this section occurs in Chapter 24 which contains general provisions as to inquiries and trials does not justify a strained construction.\\nIndeed, postponement of an inquiry also seems to be within the contemplation of the general provisions as to inquiries and trials.\\nSo this challenge also fails.\\nThe suggestion that the explanation could not extend the substantive provisions of sub section\\n(1A) has merely to be stated to be rejected because the explanation merely serves to explain the scope of the expression reasonable cause.\\nThe last submission that there is in any event no guideline for making a remand order and, therefore, the power to remand an accused person under section 344 is ultra vires being arbitrary and ' unguided is wholly unacceptable.\\nWhen a case is postponed or adjourned and the accused is in custody the court has to exercise its judicial discretion whether or not to continue him in custody by making a remand order.\\nThe court is neither bound to make an order of remand nor is it bound to release the accused person.\\nThe period of remand is in no case to exceed 15 days at a time.\\nThe discretion to make a suitable order is to be exercised judicially keeping in view all the facts and circumstances of the case including the nature of the charge, the gravity of the alleged offence, the, area of investigation, the antecedents of the accused and all other relevant factors which may appropriately help the court in determining whether to keep the accused in custody or to release him on bail.\\nThe court has to ensure the presence of the accused and ' a just, fair and smooth inquiry and trial of the offence charged.\\nThe order of remand is thus subject to judicial discretion and the, order is also subject to review by the superior courts in accordance, 830 with law.\\nThe power conferred being judicial the absence of an express, precise standard for determination of the question would not render the section unconstitutional.\\nDetention pursuant to an order of remand which appropriately falls within the terms of section 344 is accordingly not open to challenge in habeas corpus.\\nAfter we had reserved orders the petitioner forwarded to this ;Court through jail supplementary affidavit containing written arguments.\\nWe have gone through the affidavit but we do not find any new point requiring discussion.\\nIt only discloses a further attempt to reopen the majority decision of this Court in Rai Narain 's case (supra) by relying on the minority judgment and by submitting that section 344(1A), Cr.\\nP.C. offends article 19(1)(d) of the Constitution.\\nAll that we need Say at this stage is that the majority view :is binding on us.\\nThis petition accordingly fails and is dismissed.\\nG.C. Petition dismissed.\",\n          \"o. 1574 of 1971.\\nAppeal by special leave from the judgment and order dated July 6/7, 1971 of the Bombay High Court in Special Civil Application No. 619 of 1971.\\nsection V. Gupte and P. N. Tiwari, for the appellants.\\nK. section Chawla, section N. Mishra and section section Jauhar, for the respondents.\\nThe Judgment of the Court was delivered by Mitter, J.\\nThis is an appeal by special leave from a judgment and order of the Bombay High Court in a Special Civil Application from a decision.\\nof the Court of Small Causes Bombay in exercise of its revisionary jurisdiction.\\nThe revisional court had reversed the decision of the trial court and remanded the matter for disposal ,of the issues other than issues 2 to 8 tried as preliminary issues and decided in favour of the plaintiffs before the Court of Small Causes.\\nThe facts are as follows.\\nRespondent No. 1 was the owner of a flat on the second floor of Block No. 8 'Shyam Niwas ', Warden Road, I Bombay.\\nShe was a member of a Co operative Housing Society and had acquired the flat from the said society.\\nIn 1959 she had put the appellant Sabharwal Brothers in possession of the flat for a period of 11 months on payment of Rs. 510/ per month.\\nThere was an agreement in writing which purported to show that the possession was to be on leave and licence basis.\\nThis agreement was signed by a partner of Sabharwal Brothers who also became member of the said Co operative Society.\\nThere were repeated renewels of the said agreement until 25th October, 1962 when the first respondent asked the appellants to vacate possession on the ground that she required the flat for her personal occupation.\\nAs this was not complied with, she filed a statement of claim before the Registrar of Co operative Societies on the ground that there was 55 a dispute within the meaning of section 91(1) of the Maharashtra Co operative Societies Act (Thereinafter referred to as the 'Act ') which required adjudication There was a challenge to the jurisdiction of the nominee of the Registrar to whom it was referred by the appellants.\\nThe proceedings before the nominee went on for some time on July 3, the nominee made an award to the effect the, appellants were occupying the flat on leave and licence basis.\\nAnticipating the award the appellants filed a suit in the Court of Small Causes Bombay stating that they were in occupation of the flat as tenants and as such entitled to protection under the Bombay Rent Act, 1947 and the first respondent had no right to evict them.\\nIn her written statement the defendant denied that the plaintiffs were tenants contending, inter alia, that the plaintiffs were occupying the flat only on leave and licence basis etc.; that the dispute between the parties had been referred to the Registrar of Co operative Societies for disposal and finally that the Court of Small Causes had no jurisdiction to entertain and try a suit involving such a dispute.\\nThe Small Causes Court framed no less than twelve issues of which issues 2 to 8 related to the maintainability of the suit and the jurisdiction of the court in view of the provisions of section 91 (1) (d) of the Act.\\nThe Small Causes Court held that the suit was maintainable and answered the other preliminary issues in favour of the plaintiff.\\nThe matter was taken in revision to a Bench of the said Small Causes Court.\\nThe Bench took a different view holding that the Registrar 's nominee did have jurisdiction to try the dispute between the parties and remanded the proceedings to the trial court for disposal of the suit after deciding on issue as to res judicata by reason of the award of the nominee.\\nThe High Court dismissed the Special Civil Application of the plaintiffs holding that the revisional court of the Small Causes was justified in coming to the conclusion that it was not open to the plaintiffs to contend that the Registrar or his nominee had no jurisdiction to entertain the dispute on the two grounds on which it was challenged.\\nBefore us the main points urged on behalf of the appellants were: first, whether there was any dispute between the parties touching the business of the Co operative Society which could be decided by the Registrar or referred by him to a nominee for disposal; and, secondly whether the suit filed in the Small Causes Court was maintainable having regard to the nature of the relief sought.\\nThe central question, therefore,.is, whether the dispute between the parties is capable of reference under the Act.\\nThe relevant portion of section 91 (1 ) (b) of the Act runs as follows (1) Notwithstanding anything contained in any other law for the time being in force, any dispute touch 56 ing the constitution . management or business of a society shall be referred by any of the parties to the dispute. if both the parties thereto are one or other of the following: (a). . . . . . . . . (b) a member, past member or a person claiming through a member etc. \\\" section 91(3) provides : \\\"Save as otherwise provided under subsection (3) of section 93, no court shall have jurisdiction to entertain any suit or other proceedings in respect of any dispute referred to in sub section (1).\\nWe may also note the relevant portion of section 163 (1) which provides: I ) Save as expressly provided in this Act, no civil or revenue court shall have any jurisdiction in respect of (a) (b) any dispute required to be referred to the Registrar, or his nominee (c) Before the Court of Small Causes reference was made to bye law No. 2 of the Society to show that the objects of the society were inter alia to carry on the trade of buying,selling, hiring and letting land in accordance with the co operative principles and under Regulation No. 5 in form 'A ' printed at the end of the bye laws \\\"No tenant shall assign, underlet, vacate or part with the possession of the tenement or any part thereof without the consent in writing of the society.\\n\\\" The Bench of the Court of Small Causes referred to the above provisions and observed that the bye laws of the society constituted an agreement between the members of the society and a breach thereof would affect the defaulting member 's right of membership of the society and consequently a dispute relating to the letting of the flat was a dispute which touched the business of the society.\\n57 (Mitter, J.) The High Court referred to section 91 of the Co operative Socities Act.\\nand section 28 of the Bombay Rent Act and observed: \\\"There is a competition between two authorities, a court and the Registrar 's nominee, both exercising exclusive jurisdiction in respect of matters coming within their jurisdiction.\\\" and concluded that on general principles of law it would not be proper to allow the same question to be agitated again under a different guise.\\nIt also observed that the decision taken by the Assistant Registrar and the nominee could have been decided by an appeal and as no appeal had been filed the provisions of law must have their effect with the result that the decision of the dispute by the nominee of the Registrar had become final.\\nWith all respect to the High Court, it seems to us that there was a fundamental error in the above approach.\\nNo doubt it was the business of the society to let out premises and a member had no unqualified right to let out his flat or tenement to another by virtue of the bye laws and a breach of the bye laws could affect the defaulting member 's right to membership.\\nBut we are not able to see how letting by a member to another member would touch the business of the society which included inter alia the trade of buying, selling, hiring and letting land in accordance with co ope rative principles.\\nThe letting of flat by respondent No. 1 was a transact ion of the same nature as the society itself was empowered to enter into but such letting by itself did not concern the business of the society in the matter of its letting ' out flats.\\nNothing was brought to our notice to show that such a letting would affect the business of the society once it had sold the flat to the respondent No. 1.\\nThe position might have been different if the latter had himself been a tenant of the flat under the society.\\n\\\"To touch\\\" means \\\"to come in contact with\\\" and it does not appear that there is a point of contact between a letting by the respondent No. 1 and the business of the society when the society was not itself the landlord of the flat.\\nReference was made at the Bar to Deccan Merchants Co opera tive Bank Ltd. vs M/s Dalichand Jugraj Jain and others(, ').\\nThe facts there were very different from those of the instant case.\\n(1) [1969] 1 S.C.R. 887.\\n5 LI208 Sup C I/72 58 But the Court had to consider the question of competing jurisdiction under the Bombay Rent Act and the Act and it is pertinent to note the observations at p.902\\\"that the two acts can be harmonised best by holding that in matters covered by the Rent Act, its provisions, rather than the provisions of the Act, should apply.\\\" In the result we allow the appeal, set aside the judgement and order of the High Court And of the Bench of the Court of Small Causes.\\nThe matter is now to go back to the Court of Small Causes for disposal according to law.\\nThe appellants will have the costs incurred in this Court.\\nAppeal allowed.\",\n          \"ivil Appeal No. 1451 of 1968.\\nAppeal from the judgment and decree dated March 11, 1965 of the Andhra Pradesh High Court in A.S. Nos. 93 and 169 of 1957.\\nRajeshwara Rao and B. Parthasarathi, for the appellant.\\nD. Munikanniah and A.V.V. Nair, for the respondent.\\nThe Judgment of the Court was delivered by Ramaswami, J.\\nThis appeal is brought by certificate from the judgment of the High Court of Andhra Pradesh dated March 11, 1965 in A.S. Nos. 93 and 169 of 1957.\\nThe appellant was a firm of dealers in pulses at Vijayawada.\\nIt was sending pulses like green gram and black gram to other States viz.: Bombay, Bengal, Madras and Kerala by rail in the course of their business.\\nThe consignments were addressed to 'self ' and the railway receipts were endorsed in favour of Banks for delivery against payments.\\nThe purchasers obtained the railway receipts after payments and took delivery of the goods.\\nThe total turnover of the business of the appellant for the year 1949 50 was Rs. 17,05,144 2 2.\\nOf the said turnover a sum of Rs. 3,61,442 7 3 represented the turnover of sales effected outside the then Madras State.\\nFor the assessment year 1949 50 the Deputy Commercial Tax Officer collected sales tax on the total turnover without exempting the value of the sales effected outside the State.\\nThe appellant was permitted to pay sales tax under(r. 12 of the Madras General Sales Tax (Turnover and Assessment) Rules.\\nThe appellant submitted monthly returns and paid sales tax without claiming any such exemption till the end of January, 1950.\\nBut in, the returns for the months of February and March, 1950 the appellant claimed exemption on sales effected outside the State.\\nThe appellant submitted a consolidated return exhibit A 18 to the Deputy Commercial Tax Officer on March 30, 1950 claiming exemption in respect of a sum of Rs. 10,37,334 7 9 being the value of the sales effected outside the 745 State or the period commencing from April 1, 1949 and ending January 31, 1950.\\nThe Deputy Commercial Tax Officer fixed the taxable turnover of the appellant at Rs. 17,05,14 4 2 2 and issued a notice exhibit A 23 dated October 24, 1950 to show cause why the appellant should not be assessed accordingly.\\nThe appellant was thereafter held liable to pay tax amounting to Rs. 26,642 14 0 on a net turnover of Rs. 17,05,144 2 2.\\nThe appellant preferred an appeal to the Commercial Tax Officer and a revision petition to the Board of Revenue, Madras but was unsuccessful.\\nThe appellant, therefore brought a suit for the recovery of Rs. 21,270 13 0 being the amount of tax illegally collected from him together with interest, contending that the sales effected outside the State could not be taxed under article 285 (1)(a) of the Constitution of India.\\nThe State of Madras contested the suit on the ground that the sales were taxable as they fell within the purview of explanation 2 to section 2(h) of the Madras General Sales Tax Act, 1939 hereinafter referred to.\\nas the Act).\\nThe Subordinate Judge held that for the period from April 1, 1949 to January 25, 1950 the appellant was not entitled to impeach the assessment on the turnover relating to sales outside the State.\\nAs regards the period from March 26, 1950 to March 31, 1950 the Subordinate Judge took the view that the past of the turnover relating to, outside sales was not liable to salestax but as there was a single order of assessment for the entire period the entire assessment was illegal.\\nAgain the judgment of the Subordinate Judge both the appellant and the respondent filed appeals A.S. No. 93 of 1957 and A.S. No. 169 of 1957 to the High Court of Andhra Pradesh.\\nBut its order dated April 18, 1960 in Appeal No. 169 of 1957 the High Court called for a finding from the trial court as to whether the appellant was able to prove the facts entitling him to invoke the explanation to article 286(1)(a).\\nBy its order dated July 21, 1962 the trial court submitted a finding to the effect that in view of the decision of the Supreme Court in India Copper Corporation Ltd. vs The State of Bihar(1) the burden of proof was not on the appellant and that the finding will have to be given in its favour.\\nBut by its order dated March 5, 1963 the High Court directed the Subordinate Judge to record a finding after considering the evidence adduced by the appellant as to whether the goods in question were delivered for consumption within the delivery States.\\nIn its order dated March 22, 1963 the trial court, after considering the evidence given by the appellant 's witnesses came to the conclusion that the deliveries were not made for purposes of consumption within the delivery States only.\\nThe High Court by a common judgment dated March 11, 1965 in A.S. No. 93 and 169 of 1957 held that the appellant could not claim the benefit under article 286(1)(a) of the Constitution in the (1) 12S.T.C. 56.\\n746 absence of evidence as to how the wholesalers disposed of the goods after obtaining delivery and therefore the entire turnover for the year 1949 50 would be assessable to tax.\\nIn the result A.S. No. 169 of 1957 flied by the respondent was allowed and A.S. No. 93 of 1957 filed by the appellant was dismissed.\\nThe Madras General Sales Tax Act, 1939 was enacted in exercise of the legislative authority conferred upon the Provincial Legislatures by Entry 48 of List II read with section 100(3) of the Government of India Act, 1935.\\nThe explanation to section 2(h) of this Act is as follows: \\\"Notwithstanding anything to the contrary in the Indian the sale or purchase of any goods shall be deemed, for the purpose of this Act, to have taken place in this Province, wherever the contract of sale or purchase might have been made.\\n(a) If the goods.\\nwere actually in this Province at the time when the contract of sale or purchase in respect thereof was made or, (b) in case the contract was for the sale or purchase of future goods by description, then, if the goods are actually produced in this Province at any time after the contract of sale or purchase in respect thereof was made.\\\" Under Entry 48 of List II of the Government of India Act, 1935the Provincial Legislatures could tax sales by selecting some fact or circumstances which provided a territorial nexus with the taxing power of the State even if the property in the goods sold passed outside the Province or the delivery under the contract of sale took place outside the Province.\\nLegislation taxing sales depending solely upon the existence of a nexus, such as production or manufacture of the goods, or presence of the goods in the Province at the date of the contract of sale, between the sale and the legislating Province could competently be enacted under the Government of India Act, 1935.\\n[see Tata Iron & Steel Ca.\\nLtd. vs The State of Bihar(1) and Poppatlal Shah vs The State of Madras ( 2 ) ].\\nBy article 286 of the Constitution certain fetters were placed upon the legislative powers of the States as follows: \\\"(1) No law of a State shall impose, or authorise the imposition of, a tax on the sale or purchase of goods where such sale or purchase takes place (1) ; (2) [19531 S.C.R. 677.\\n747 (a) outside the State; or (b) in the course of the import of the goods into, or export of the goods out of, the territory of India.\\nExplanation.\\nFor the purposes of sub clause (a), a sale or purchase shall be deemed to have taken place in the State in which the goods have actually been delivered as a direct result of such sale or purchase for the purpose of consumption in that State, notwithstanding the fact that under the general law relating to sale of goods the property in the goods has by reason of such sale or purchase passed in another State.\\n(2) Except in so far as Parliament may by law otherwise provide, no law of a State shall impose, or authorise the imposition of, a tax on the sale or purchase of any goods where such sale or purchase takes place in the course of inter State trade or commerce; Provided that the President may by order direct that any tax on the sale or purchase of goods which was being lawfully levied by the Government of any State immediately before the commencement of this Constitution shall, notwithstanding that the imposition of such tax is contrary to the provisions of this clause, continue to be levied until the thirty first day of March, 1951.\\n(3) No law made by the Legislature of a State imposing, or authorising the imposition of, a tax on the sale or purchase of any such goods as have been declared by Parliament by law to be essential for the life of the community shall have effect unless it has been reserved for the consideration of the President and has received his assent.\\\" Therefore, by incorporating section 22 of the Madras Act read with article 286, notwithstanding the amplitude of the power otherwise granted by the charging section read with the.\\ndefinition of 'sale ', a cumulative fetter of triple dimension was imposed upon the taxing power of the State.\\nThe Legislature of the Madras State could not since January 26, 1950, levy a tax on sale of goods taking place outside the State or in the course of import of the goods into, or export of the goods out of, the territory of India, or on sale of any goods where such sale took place in the course of inter State trade or commerce.\\nBy the Explanation to article 286(1)(a) which is incorporated by section 22 of the Madras Act a sate is deemed to take place in the State in which the goods are actually delivered as a. direct result of such sale for the purpose 748 of consumption in that State even though under the law relating to sale of goods the property in the goods has by reason of such sale passed in another State.\\nIn the State of Bombay and Anr.\\nvs The United Motors (India) Ltd.(1) it was held that since the enactment of article 286(1)(a) a sale described in the Explanation which may for convenience be called an \\\"Explanation sale\\\" is taxable by that State alone in which the goods sold are actually delivered as a direct result of sale for the purpose of consumption in that State.\\nWith a view to impose restrictions on the taxing power of the States under the pre Constitution statutes, amendments were made in those statutes by the Adaptation of Laws Order.\\nAs regards the Madras Act the President issued on July 8, 1952 the Fourth Amendment inserting a new section, section 22 in that Act.\\nIt runs as follows: \\\"Nothing contained in this Act shall be deemed to impose or authorise the imposition of a tax on the sale or purchase of any goods where such sale or purchase takes place (a) (i) outside the State of Madras, or (ii) in the course of import of the goods into the territory of India or of the export of the goods out of such territory, or (b) except in so far as Parliament may by law otherwise provide, after the 31st March., 1951, in the course of inter State trade or commerce, and the provisions of this Act shall be read and construed accordingly.\\nExplanation : For the purposes of cl.\\n(a)(i) a sale or purchase shall be deemed to have taken place in the State in which the goods have actually been delivered as a direct result of such sale or purchase for the purpose of consumption in that State, notwithstanding the fact that under the general law relating to sale of goods the property in the goods has by reason of such sale or purchase passed in another State.\\n\\\" By this amendment the same restrictions were engrafted on the pre Constitution statute as were imposed by article 286 of the Constitution upon post Constitution statutes.\\nAs regards the sales for the period from April, 1949 to January 25, 1950 it was admitted before the Deputy Commercial (1) ; 749 Tax Officer that the goods were actually in the Madras State at the time the contract of sale was concluded.\\nIt was for this reason that the Deputy Commercial Tax Officer negatived the claim which the appellant made in respect of those sales.\\nIt appears that in the trial court the appellant challenged the constitutional validity of explanation to section 2(h) of the Act.\\nBut in view of the decision of this Court in the Tata Iron & Steel Co 's case(1) and Poppatlal Shah 's case(2) counsel on behalf of the appellant did not seriously dispute the validity of the assessment in regard to sales from April 1, 1949 to January 25, 1950.\\nWith regard to the period from January 26, 1950 to March 31, 1950 the contention of the appellant ' is that the High Court was in error in holding that the burden of proof was on the appellant to show that there was not only delivery of goods for consumption within the delivery States but there was actual consumption of the goods in those States.\\nIn our opinion the argument is well founded and must be accepted as correct.\\nIn India Copper Corporation 's case(3) it was pointed out by this Court that if the goods were as a direct result Of a sale delivered outside the State of Bihar for the purpose of consumption in the State of first delivery, the assessee would be entitled to the exemption from sales tax by virtue of the Explanation to Art 286(1)(a) of the Constitution and it would not be necessary for the assessee to prove further that the goods so delivered were actually consumed in the State of first destination.\\nIn the present case the Subordinate Judge has, upon a consideration of the evidence adduced by the parties stated in his report dated June 27, 1962 that the intention of the appellant was that the sale and delivery should be for the purpose of consumption in the delivery States.\\nIt is true that in his subsequent report dated March 22, 1963 the Subordinate Judge gave a different finding.\\nBut it is obvious that the subsequent report of the Subordinate Judge is vitiated because the principle laid down by this Court in India Copper Corporation 's case(3) has not been taken into account.\\nHaving regard to the evidence adduced by the appellant in this case we are satisfied that the part of the turnover which related to sale from 2, January 26, 1950 to March 31, 1950 was not liable to sales tax and the levy of sales tax from the appellant to this extent is illegal.\\nThe next question arising in this appeal is whether the assessment order of the Deputy Commercial Tax Officer for the year 1949 50 is illegal in its entirety notwithstanding the fact that the State Government had a right to levy sales tax on outside sales (1) ; (2) ; (3) 12 S.T.C. 56. 750 which were effected prior to January 26, 1950.\\nIt was argued for the appellant that the assessment must be treated as one and indivisible and if a part of the assessment is illegal the entire assessment must be deemed to be infected and treated as invalid.\\nIn support of this argument reference was made to the decision of this Court in Ram Narain Sons Ltd. vs Assistant Commissioner of Sales Tax(1) in which this Court observed as follows: \\\"The necessity for doing so; is, however, obviated by reason of the fact that the assessment is one composite whole relating to.\\nthe pre Constitution as well as the post Constitution periods and is invalid in toto.\\nThere is authority for the proposition that when an assessment consists of a single undivided sum in respect of the totality of the property treated as assessable, the wrongful inclusion in it of certain items of property which by virtue of a provision of law were expressly exempted from taxation renders the assessment invalid in toto.\\\" The Court cited with approval a passage from the judgment of the Judicial Committee in Bennett & White (Calgary) Ltd.and Municipal District of Sugar City No. 5(2).\\n\\\"When an assessment is not for an entire sum, but for separate sums, dissected and earmarked each of them to a separate assessable item, a Court can sever the items and cut out one or more along with the sum attributed to it, while affirming the residue.\\nBut where the assessment consists of a single undivided sum in respect of the totality of property treated as assessable, and when one component (not dismissible as 'de minimis ') as on any view not assessable and wrongly included, it would seem clear that such a procedure is barred, and the assessment is bad wholly.\\nThat matter is covered by authority.\\nIn Montreal Light, Heat & Power Consolidated vs City of Westmount(3) the Court (see especially per Anglin, C.J) in these conditions held that an assessment which was bad in part was infected throughout, and treated it as invalid.\\nHere their Lordshis are of opinion, by parity of reasoning, that the assessment was invalid in toto.\\n\\\" Applaying the principle to the special facts are circumstances of the case the Court set aside the orders of assessment and directed that the case should be remanded to the Assessment Officer for reassessment of the appellants in accordance with law.\\nThe same principle was applied but with a different result in the later case (1) 6 S.T.C. 627 at 637.\\n(2) at p. 816.\\n(3) 751 the State of Jammu & Kashmir vs Caltex (India) Ltd. (1) in which the question arose as regards the validity of an assessment of sales tax of all retails sales of motor spirit.\\nThe Petrol Taxation Officer assessed the respondent to pay sales tax for the period January 1955 to May, 1959 under section 3 of the Jammu & Kashmir Motor Spirit (Taxation of Sales) Act, 2005.\\nThe respondent applied under section 103 of the Constitution of Jammu & Kashmir and a single Judge of the High Court held that the respondent was liable to pay sales tax only in respect of the sales which took place during the period January to September, 1955 and issued a writ restrainig the appellants from levying tax for the period October, 1955 to May, 1959.\\nOn appeal a Division Bench of the High Court quashed the assessment for the entire period.\\nOn appeal to this Court it was held that though there was one order of assessment for the period January 1, 1955 to May 1959 the assessment could be split up and dissected and the items of sale could be separated and taxed for different periods.\\nIt was pointed out that the sales tax was imposed in the ultimate analysis on receipts from individual sales or purchases of goods effected during the entire period, and, therefore, a writ of mandamus could.\\nbe issued directing the appellant not to realise sales tax with regard to transactions of sale during the period from September 7, 1955 to May, 1959.\\nA similar question arose for determination in an American case [Frank Rattarman vs Western Union Telegraph Co.(2)].\\nThe question in that case was \\\"whether a single tax, assessed under the Revised Statutes of Ohio, section 2778, upon the receipts of a telegraph company which receipts were derived partly from inter state commerce and partly from commerce ' within the State but which were returned and assessed in gross and without separation or apportionment, is wholly invalid, or invalid only in the proportion and to the extent that the said receipts were derived ,from interstate commerce\\\".\\nIt was held unanimously by the Supreme Court of the United States that the assessment was not wholly invalid but it was invalid only in proportion to the extent that such receipts were derived from interstate commerce.\\nIt was observed that where the subjects of taxation can be separated so that that which arises from interstate commerce can be distinguished from that which arises from commerce wholly within the State, the Court will act upon this distinction, and will restrain the tax on interstate commerce.\\nwhile permitting the State to collect that upon commerce wholly within its own territory.\\nThe principle of this case has been consistetly followed in American cases: [see Bowman vs Continental Company(3)].\\nThis case has been cited with approval by this Court in The State of Bombay (1) 17 S.T,C. 612.\\n(2) ; (3) C.I./69 4 752 vs The United Motors (India) Ltd.(1) wherein it was observed that the same principle should be applied in dealing with taxing statutes in this country also.\\nIn the present case we are of opinion that though there is a single order of assessment for the period from April 1, 1949 to March 31, 1950 the assessment could be split up and dissected and the items of sale separated and taxed for different periods.\\nIt is quite easy in this case to ascertain the turnover of the appellant for the pre Constitution and post Constitution periods for these figures are furnished in the plaint by the appellant himself.\\nIt is open to the Court in these circumstances to sever the illegal part of the assessment and give a declaration with regard to that part alone instead of declaring the entire assessment void.\\nFor these reasons we hold that the appellant should be granted a declaration that the order of assessment made by the Deputy Commercial Tax Officer for the year 1949 50 is invalid to the extent that the levy of sales tax is made on sales relating to.\\ngoods which were delivered for the purpose of consumption outside the State for the period from January 26, 1950 to March 31, 1950.\\nThe result is that the appellant is entitled to a refund of the amount illegally collected from him for the period from January 26, 1950 to March 31, 1950.\\nThe trial court has already found that the appellant is entitled to claim exemption with regard to.\\nturnover for this period to the extent of Rs. 3,34,107 15 6 and the tax payable on this sum is Rs. 5,220 7 0.\\nThe appellant is.\\ntherefore, entitled to a decree for the refund of Rs. 5,220 7 0.\\nThe appellant is also entitled to interest at 6% per annum from the date of suit till realisation of this amount.\\nFor these reasons we allow this appeal and set aside the judgment of the Andhra Pradesh High Court dated March 11, 1965 in A.S. Nos. 93 and 169 of 1957 and allow this appeal to the extent indicated above.\\nThere will be no order with regard to costs.\\nR.K.P.S. Appeal allowed.\\n(1) ; at 1097.\"\n        ],\n        \"semantic_type\": \"\",\n        \"description\": \"\"\n      }\n    },\n    {\n      \"column\": \"output\",\n      \"properties\": {\n        \"dtype\": \"string\",\n        \"num_unique_values\": 130,\n        \"samples\": [\n          \"The petitioner was arrested on July 17, 1970 and was produced before a first class Magistrate next day when he was remanded to judicial custody under section 167(2) Cr.\\nP.C. for 15 days.\\nHe was informed at the time of remand that his arrest was in connection with a case relating to dacoity and murder and conspiracy to commit the same.\\nAlthough a charge sheet had been submitted against about 148 persons accused in the case the petitioners ' name was not among them, because as the police later explained, investigations against him had not been completed.\\nThe petitioner objected to a second remand on August 1, 1970 but that very day the prosecution filed a supplementary charge sheet including his name.\\nRemand was then extended upto August 6 and thereafter upto August 20, 1970.\\nOn the last mentioned date he was not produced before the magistrate because of alleged want of escort and the remand was extended in his absence.\\nIn a petition under article 32 of the Constitution the petitioner challenged his detention from August 1 onwards.\\nThe remand order of August 20 was challenged on the ground that it was made in his absence and it was urged that the law does not permit remand without actual production of the accused before the Court.\\nThe constitutional validity of section 344(1A) and of the Explanation to the section was also challenged.\\nHELD : (1) In view of this Court 's decision in Rai Narain 's case it could no longer be urged that the production of an accused before the magistrate for the purpose of remand was a necessary requirement.\\nthough as a rule of caution it is highly desirable that the accused should be personally produced before the magistrate so that he may if he so chooses make a representation against his remand.\\nThe order of remand dated August 20, 1970 was in the circumstances not contrary to law so as to render the petitioner 's custody illegal justifying his release by this Court on habeas corpus.\\nIt was still open to the petitioner to apply for bail to the appropriate court in accordance with law.\\nRai Narain vs Supdt.\\nCentral Jail, New Delhi, ; applied.\\n[826 G 827 C] (ii)Sub section (1A) of section 344 of the code vests in the court seized of a criminal case, power to postpone the commencement of or adjourn any inquiry or trial before him by order in writing stating the reasons therefore from time to time on such terms as the court thinks fit and for such time as it considers reasonable.\\nWhen the case is so postponed or adjourned the court may also by a warrant remand the accused, if in custody.\\nThe discretion to adjourn being vested in a court of law has to be exercised judicially on well recognised principles and is therefore immune from challenge on the ground of arbitrariness or want of guidelines.\\nThe judicial power to postpone or adjourn the proceedings is to be exer 823 cises only it from the absence of witnesses or any other reasonable cause the court considers it necessary or desirable to do so.\\nIt has to record its reasons for so doing.\\nSimilarly the discretion to order remand of the accused is to be exercised judicially keeping in view all the facts and circumstances of the case including the nature of the charge the gravity of the alleged offence, the area of investigation, the antecedents of the accused and all other relevant factors which may appropriately help the court in determining whether to keep the accused in custody or to release him on bail.\\nReasonable cause for remand according to the explanation covers a case where sufficient evidence is obtained to raise suspicion about the complicity of an accused person in the offence and it appears likely that more evidence may be obtained by remand.\\n[828 C E] Further, both the order of adjournment as well as the order of remand are subject to review by the superior courts in accordance with law.\\nThe challenge to the validity of section 344(1A) on the ground of want of guidelines must therefore fail.\\n[829 H 830 A] (iii)The suggestion that the explanation could not extend the substantive provisions of sub section\\n(1A) has merely to be stated to be rejected because the explanation merely serves to explain the scope of the expression reasonable cause.\\n[829 E] (iv)The argument that since section 344 falls in Ch.\\n24 Cr.\\nP.C. which contains general provisions as to inquiries and trials and therefore it cannot apply to a Case at the stage of investigation and collection of evidence is negatived by the express language of sub section\\n(1A) and the explanation.\\nUnder sub section\\n(1A) commencement of the inquiry or trial can also be postponed.\\nThis clearly seems to refer to the stage prior to the commencement of the inquiry.\\nThe explanation makes it clear beyond doubt that reasonable cause as mentioned in sub section\\n(1A) includes the likelihood of obtaining further evidence during investigation by securing a remand.\\nIndeed a postponement of an inquiry on trial also seems to be within the contemplation of the general provisions as to inquiries and trials.\\n[829 C D] [Plea to reopen Rai Narain 's case rejected.]\",\n          \"The respondent was the owner of the flat on the second floor of a Building in Bombay.\\nShe was a member of a Co operative Housing Society and had acquired the flat from that society.\\nIn 1959 she had put the appellant in possession of the flat for a period of 11 months on payment of Rs. 5101 per month.\\nAccording to the written agreement the possession was given on leave and licence basis.\\nThe government was signed by one of the partners of the appellant firm who also became members of the said Co operative Society.\\nThe agreement was renewed until 25th October, 1962 when the first respondent asked the appellants to vacate possession on the ground that she required the flat for personal occupation.\\nAs this was not complied with she filed a statement of claim before the Registrar of Co operativc Societies on the ground that there was a dispute within the meaning of section 91(1) of the Maharashtra Co operative Societies Act.\\nThe Registrar referred the case to a nominee whose jurisdiction was challenged by the appellants.\\nNevertheless the proceedings before the nominee went on for some time and on July 3, 1964 the nominee made an award to the effect that the appellants were occupying the flat on leave and licencee basis.\\nThe appellants, anticipating the award, filed a suit in the Court of Small Causes Bombay stating that they were in occupation of the flat as tenants and as such entitled to protection under the Bombay Rent Act, 1947.\\nThe Small Causes Court held that the suit was maintainable and answered the other preliminary issues in favour of the plaintiff.\\nIn revision the bench of the Small Causes Court held that the Registrar 's nominee did have jurisdiction to try the dispute between the parties and remanded the proceedings to the trial court for disposal of the suit after deciding an issue as to res judicata by reason of the award of the nominee.\\nThe High Court up held the order of the bench.\\nIn this Court the questions that fell for consideration were (1) Whether there was any dispute between the parties touching the business of the co operative society which could be decided by the Registrar or referred by him to a nominee for disposal and (2) Whether the suit filed in them Small Causes Court was maintainable having regard to the nature of the relief sought.\\nAllowing the appeal HELD : (i) No doubt it was a business of the society to let out premises and a member had no unqualified right to let out his flat or tenement to another by virtue of the bye laws and a breach of the byelaws could affect the defaulting member 's right to membership.\\nBut HELD : (i) No doubt it was a business of the society to let Out touch the business of the society which included inter alia the trade of buying, selling, hiring and letting land in accordance with cooperative principles.\\nThe letting of flat by respondent No. 1 was a transaction of 54 the same nature as the society it if was empowered to enter into but such letting out itself did not concern the business of the society in the matter of its letting out flats.\\nThere was nothing to show that such letting would effect the business of the society once it had sold the flat to the respondent No. 1.\\nThe position might have been different if the latter had himself been a tenant of the flat under, the society.\\n\\\"To touch\\\" means \\\"to corn in contact with\\\" and it did not appear that there was a point of contact between a letting by the respondent No. 1 and the business of the society when the society was not itself the land lord of the flat.\\n[57D G] (ii) As observed by this Court in an earlier case the Bombay Rent Act and the Maharashtra Cooperative Societies Act can be harmonised best by holding that in matters covered by the Rent Act, its provisions rather than the provisions of the Co operative Societies Act, should apply.\\n[58A] Deccan Merchants Co operative Bank Ltd. vs M/s, Dalkhand Jugraj Jain and others, [1969] 1 S.C.R., 887, distinguished.\",\n          \"The appellant, a dealer in pulses in Vijayawada in Madras State made certain sales outside the State during the assessment year 1949 50.\\nThe appellant claimed exemption from sales tax of sales effected outside the State during the year but the Deputy Commercial Tax Officer disallowed the claim.\\nA first appeal and a revision petition to the Board of Revenue were unsuccessful.\\nThe appellant thereafter brought a suit for the recovery of tax collected from him with interest contending that part of sales effected outside the State could not be taxed under article 285(1)(a) of the Constitution.\\nThe Trial Court held that the assessment to tax of the sales during the period from April 1, 1949 to January 25, 1950 ' could not be impeached but the sales from January 26 to March 31 outside the State were not liable to sales tax; as there was a single order of assessment 'for the whole year, the entire assessment was illegal.\\nIn appeal to the High Court, and upon a direction from that Court, the Trial Court gave a finding that deliveries of the goods were not made for purposes of consumption within the delivery State only.\\nThe High Court.\\ntherefore.\\nallowed the appeal holding that the appellant could not claim the benefit under Article 286(1)(a) in the absence of evidence as to how the whole sales disposed of the goods after obtaining delivery and therefore the entire turn over for the year 1949 50 would be assessable to tax.\\nIn the appeal to this Court, it was contended inter alia (i) that the High Court was in error in holding that the burden of proof was on the appellant to show that there was not only delivery of goods for consumption within the delivery States but there was actual consumption of goods in those States: (ii) the assessment must be treated as an indivisible one and if a part of the assessment was illegal, the entire assessment must be deemed to be infected and treated as invalid.\\nHELD: Allowing the appeal, (i) The part of the turnover which related to sales from January 26, 1960 to March 31.\\n1960 was not liable to sales tax and the levy of sales tax from the appellant to this extent was illegal.\\nIt was rightly contended that the appellant did not carry the burden of showing that there was not only delivery of goods for consumption within the States but that the goods were actually consumed in those States.\\n[749 C] India Copper Corporation Ltd. vs The State of Bihar, 12 S.T.C. 56 relied upon.\\n744 (ii) In the present case though there was a single order of assessment for the period from April 1, 1949 to March 31, 1950, the assessment could be split up and dissected and the items of sales separated and taxed for different periods.\\nIt was possible to ascertain the turnover of the appellant for the pre Constitution and post Constitution periods from the figures furnished in the plaint by the appellant himself.\\nIt was, therefore.\\nopen to the Court in these circumstances to sever the illegal part of the assessment and give a declaration with regard to the illegal part alone instead of1 declaring the entire assessment void.\\n[752 B] Case law referred to.\"\n        ],\n        \"semantic_type\": \"\",\n        \"description\": \"\"\n      }\n    },\n    {\n      \"column\": \"instruction\",\n      \"properties\": {\n        \"dtype\": \"category\",\n        \"num_unique_values\": 1,\n        \"samples\": [\n          \"Case judgements represent rulings issued by judges in judicial proceedings, often comprising extensive transcripts spanning dozens of pages.\\nYour task is to compose the headnote for the given case judgement. An excellent headnote captures the core of the judgment properly, succinctly, and completely.\\n\\nHere are the core elements of a headnote:\\n- PAST TENSE: The headnote is written in the past tense.\\n- METADATA: The headnote includes the case name, judgement number, court, judge(s), and date of judgement.\\n- INTRODUCTION: The headnote introduction describes the field of law that the case deals with, and does not directly jump into the case details.\\n- KEY FACTS: The headnote includes who filed the case, why the case was filed, and what remedy the filer wants.\\n- KEY ARGUMENTS: The headnote includes both sides' submissions and reasons to support their position.\\n- RELEVANT LAWS: The headnote references relevant legislation and concepts to support the case judgement.\\n- CONCLUSION: The headnote includes the case's conclusion and procedural disposition (ex: permitted, dismissed, reversed, remanded, affirmed, etc.).\\n\\nVERY IMPORTANT: Do not generate multiple paragraphs or sections. Write a single paragraph that does not exceed 800 words, or a single page.\\n\"\n        ],\n        \"semantic_type\": \"\",\n        \"description\": \"\"\n      }\n    },\n    {\n      \"column\": \"input_ids\",\n      \"properties\": {\n        \"dtype\": \"object\",\n        \"semantic_type\": \"\",\n        \"description\": \"\"\n      }\n    },\n    {\n      \"column\": \"attention_mask\",\n      \"properties\": {\n        \"dtype\": \"object\",\n        \"semantic_type\": \"\",\n        \"description\": \"\"\n      }\n    }\n  ]\n}",
              "type": "dataframe",
              "variable_name": "test_df"
            },
            "text/html": [
              "\n",
              "  <div id=\"df-2429c36e-6e03-4881-8df2-3d4085752220\" class=\"colab-df-container\">\n",
              "    <div>\n",
              "<style scoped>\n",
              "    .dataframe tbody tr th:only-of-type {\n",
              "        vertical-align: middle;\n",
              "    }\n",
              "\n",
              "    .dataframe tbody tr th {\n",
              "        vertical-align: top;\n",
              "    }\n",
              "\n",
              "    .dataframe thead th {\n",
              "        text-align: right;\n",
              "    }\n",
              "</style>\n",
              "<table border=\"1\" class=\"dataframe\">\n",
              "  <thead>\n",
              "    <tr style=\"text-align: right;\">\n",
              "      <th></th>\n",
              "      <th>input</th>\n",
              "      <th>output</th>\n",
              "      <th>instruction</th>\n",
              "      <th>input_ids</th>\n",
              "      <th>attention_mask</th>\n",
              "    </tr>\n",
              "  </thead>\n",
              "  <tbody>\n",
              "    <tr>\n",
              "      <th>567</th>\n",
              "      <td>ivil Appeal No. 165 of 1974 etc.\\nFrom the Jud...</td>\n",
              "      <td>Section 7D of the Kerala Land Reforms Act, 196...</td>\n",
              "      <td>Case judgements represent rulings issued by ju...</td>\n",
              "      <td>[128000, 286, 21883, 374, 459, 7754, 430, 1696...</td>\n",
              "      <td>[1, 1, 1, 1, 1, 1, 1, 1, 1, 1, 1, 1, 1, 1, 1, ...</td>\n",
              "    </tr>\n",
              "    <tr>\n",
              "      <th>568</th>\n",
              "      <td>ivil Appeal No. 1043 of 1990.\\nFrom the Judgme...</td>\n",
              "      <td>One Motilal who owned Goyal Talkies entered in...</td>\n",
              "      <td>Case judgements represent rulings issued by ju...</td>\n",
              "      <td>[128000, 286, 21883, 374, 459, 7754, 430, 1696...</td>\n",
              "      <td>[1, 1, 1, 1, 1, 1, 1, 1, 1, 1, 1, 1, 1, 1, 1, ...</td>\n",
              "    </tr>\n",
              "    <tr>\n",
              "      <th>569</th>\n",
              "      <td>l Appeals Nos. 1494 to 1498 of 1971.\\nAppeals ...</td>\n",
              "      <td>In pursuance of an agreement between the asses...</td>\n",
              "      <td>Case judgements represent rulings issued by ju...</td>\n",
              "      <td>[128000, 286, 21883, 374, 459, 7754, 430, 1696...</td>\n",
              "      <td>[1, 1, 1, 1, 1, 1, 1, 1, 1, 1, 1, 1, 1, 1, 1, ...</td>\n",
              "    </tr>\n",
              "    <tr>\n",
              "      <th>570</th>\n",
              "      <td>: Criminal Appeal No. 37 of 1991.\\nFrom the Ju...</td>\n",
              "      <td>Respondent No. 1 is a firm dealing in medicine...</td>\n",
              "      <td>Case judgements represent rulings issued by ju...</td>\n",
              "      <td>[128000, 286, 21883, 374, 459, 7754, 430, 1696...</td>\n",
              "      <td>[1, 1, 1, 1, 1, 1, 1, 1, 1, 1, 1, 1, 1, 1, 1, ...</td>\n",
              "    </tr>\n",
              "    <tr>\n",
              "      <th>571</th>\n",
              "      <td>Civil Appeal Nos. 95 and 96 of 1971.\\nFrom the...</td>\n",
              "      <td>By an order dated 31st December, 1968, the sal...</td>\n",
              "      <td>Case judgements represent rulings issued by ju...</td>\n",
              "      <td>[128000, 286, 21883, 374, 459, 7754, 430, 1696...</td>\n",
              "      <td>[1, 1, 1, 1, 1, 1, 1, 1, 1, 1, 1, 1, 1, 1, 1, ...</td>\n",
              "    </tr>\n",
              "  </tbody>\n",
              "</table>\n",
              "</div>\n",
              "    <div class=\"colab-df-buttons\">\n",
              "\n",
              "  <div class=\"colab-df-container\">\n",
              "    <button class=\"colab-df-convert\" onclick=\"convertToInteractive('df-2429c36e-6e03-4881-8df2-3d4085752220')\"\n",
              "            title=\"Convert this dataframe to an interactive table.\"\n",
              "            style=\"display:none;\">\n",
              "\n",
              "  <svg xmlns=\"http://www.w3.org/2000/svg\" height=\"24px\" viewBox=\"0 -960 960 960\">\n",
              "    <path d=\"M120-120v-720h720v720H120Zm60-500h600v-160H180v160Zm220 220h160v-160H400v160Zm0 220h160v-160H400v160ZM180-400h160v-160H180v160Zm440 0h160v-160H620v160ZM180-180h160v-160H180v160Zm440 0h160v-160H620v160Z\"/>\n",
              "  </svg>\n",
              "    </button>\n",
              "\n",
              "  <style>\n",
              "    .colab-df-container {\n",
              "      display:flex;\n",
              "      gap: 12px;\n",
              "    }\n",
              "\n",
              "    .colab-df-convert {\n",
              "      background-color: #E8F0FE;\n",
              "      border: none;\n",
              "      border-radius: 50%;\n",
              "      cursor: pointer;\n",
              "      display: none;\n",
              "      fill: #1967D2;\n",
              "      height: 32px;\n",
              "      padding: 0 0 0 0;\n",
              "      width: 32px;\n",
              "    }\n",
              "\n",
              "    .colab-df-convert:hover {\n",
              "      background-color: #E2EBFA;\n",
              "      box-shadow: 0px 1px 2px rgba(60, 64, 67, 0.3), 0px 1px 3px 1px rgba(60, 64, 67, 0.15);\n",
              "      fill: #174EA6;\n",
              "    }\n",
              "\n",
              "    .colab-df-buttons div {\n",
              "      margin-bottom: 4px;\n",
              "    }\n",
              "\n",
              "    [theme=dark] .colab-df-convert {\n",
              "      background-color: #3B4455;\n",
              "      fill: #D2E3FC;\n",
              "    }\n",
              "\n",
              "    [theme=dark] .colab-df-convert:hover {\n",
              "      background-color: #434B5C;\n",
              "      box-shadow: 0px 1px 3px 1px rgba(0, 0, 0, 0.15);\n",
              "      filter: drop-shadow(0px 1px 2px rgba(0, 0, 0, 0.3));\n",
              "      fill: #FFFFFF;\n",
              "    }\n",
              "  </style>\n",
              "\n",
              "    <script>\n",
              "      const buttonEl =\n",
              "        document.querySelector('#df-2429c36e-6e03-4881-8df2-3d4085752220 button.colab-df-convert');\n",
              "      buttonEl.style.display =\n",
              "        google.colab.kernel.accessAllowed ? 'block' : 'none';\n",
              "\n",
              "      async function convertToInteractive(key) {\n",
              "        const element = document.querySelector('#df-2429c36e-6e03-4881-8df2-3d4085752220');\n",
              "        const dataTable =\n",
              "          await google.colab.kernel.invokeFunction('convertToInteractive',\n",
              "                                                    [key], {});\n",
              "        if (!dataTable) return;\n",
              "\n",
              "        const docLinkHtml = 'Like what you see? Visit the ' +\n",
              "          '<a target=\"_blank\" href=https://colab.research.google.com/notebooks/data_table.ipynb>data table notebook</a>'\n",
              "          + ' to learn more about interactive tables.';\n",
              "        element.innerHTML = '';\n",
              "        dataTable['output_type'] = 'display_data';\n",
              "        await google.colab.output.renderOutput(dataTable, element);\n",
              "        const docLink = document.createElement('div');\n",
              "        docLink.innerHTML = docLinkHtml;\n",
              "        element.appendChild(docLink);\n",
              "      }\n",
              "    </script>\n",
              "  </div>\n",
              "\n",
              "\n",
              "    <div id=\"df-49e1592b-59fc-43b8-9777-c07e95e92ae9\">\n",
              "      <button class=\"colab-df-quickchart\" onclick=\"quickchart('df-49e1592b-59fc-43b8-9777-c07e95e92ae9')\"\n",
              "                title=\"Suggest charts\"\n",
              "                style=\"display:none;\">\n",
              "\n",
              "<svg xmlns=\"http://www.w3.org/2000/svg\" height=\"24px\"viewBox=\"0 0 24 24\"\n",
              "     width=\"24px\">\n",
              "    <g>\n",
              "        <path d=\"M19 3H5c-1.1 0-2 .9-2 2v14c0 1.1.9 2 2 2h14c1.1 0 2-.9 2-2V5c0-1.1-.9-2-2-2zM9 17H7v-7h2v7zm4 0h-2V7h2v10zm4 0h-2v-4h2v4z\"/>\n",
              "    </g>\n",
              "</svg>\n",
              "      </button>\n",
              "\n",
              "<style>\n",
              "  .colab-df-quickchart {\n",
              "      --bg-color: #E8F0FE;\n",
              "      --fill-color: #1967D2;\n",
              "      --hover-bg-color: #E2EBFA;\n",
              "      --hover-fill-color: #174EA6;\n",
              "      --disabled-fill-color: #AAA;\n",
              "      --disabled-bg-color: #DDD;\n",
              "  }\n",
              "\n",
              "  [theme=dark] .colab-df-quickchart {\n",
              "      --bg-color: #3B4455;\n",
              "      --fill-color: #D2E3FC;\n",
              "      --hover-bg-color: #434B5C;\n",
              "      --hover-fill-color: #FFFFFF;\n",
              "      --disabled-bg-color: #3B4455;\n",
              "      --disabled-fill-color: #666;\n",
              "  }\n",
              "\n",
              "  .colab-df-quickchart {\n",
              "    background-color: var(--bg-color);\n",
              "    border: none;\n",
              "    border-radius: 50%;\n",
              "    cursor: pointer;\n",
              "    display: none;\n",
              "    fill: var(--fill-color);\n",
              "    height: 32px;\n",
              "    padding: 0;\n",
              "    width: 32px;\n",
              "  }\n",
              "\n",
              "  .colab-df-quickchart:hover {\n",
              "    background-color: var(--hover-bg-color);\n",
              "    box-shadow: 0 1px 2px rgba(60, 64, 67, 0.3), 0 1px 3px 1px rgba(60, 64, 67, 0.15);\n",
              "    fill: var(--button-hover-fill-color);\n",
              "  }\n",
              "\n",
              "  .colab-df-quickchart-complete:disabled,\n",
              "  .colab-df-quickchart-complete:disabled:hover {\n",
              "    background-color: var(--disabled-bg-color);\n",
              "    fill: var(--disabled-fill-color);\n",
              "    box-shadow: none;\n",
              "  }\n",
              "\n",
              "  .colab-df-spinner {\n",
              "    border: 2px solid var(--fill-color);\n",
              "    border-color: transparent;\n",
              "    border-bottom-color: var(--fill-color);\n",
              "    animation:\n",
              "      spin 1s steps(1) infinite;\n",
              "  }\n",
              "\n",
              "  @keyframes spin {\n",
              "    0% {\n",
              "      border-color: transparent;\n",
              "      border-bottom-color: var(--fill-color);\n",
              "      border-left-color: var(--fill-color);\n",
              "    }\n",
              "    20% {\n",
              "      border-color: transparent;\n",
              "      border-left-color: var(--fill-color);\n",
              "      border-top-color: var(--fill-color);\n",
              "    }\n",
              "    30% {\n",
              "      border-color: transparent;\n",
              "      border-left-color: var(--fill-color);\n",
              "      border-top-color: var(--fill-color);\n",
              "      border-right-color: var(--fill-color);\n",
              "    }\n",
              "    40% {\n",
              "      border-color: transparent;\n",
              "      border-right-color: var(--fill-color);\n",
              "      border-top-color: var(--fill-color);\n",
              "    }\n",
              "    60% {\n",
              "      border-color: transparent;\n",
              "      border-right-color: var(--fill-color);\n",
              "    }\n",
              "    80% {\n",
              "      border-color: transparent;\n",
              "      border-right-color: var(--fill-color);\n",
              "      border-bottom-color: var(--fill-color);\n",
              "    }\n",
              "    90% {\n",
              "      border-color: transparent;\n",
              "      border-bottom-color: var(--fill-color);\n",
              "    }\n",
              "  }\n",
              "</style>\n",
              "\n",
              "      <script>\n",
              "        async function quickchart(key) {\n",
              "          const quickchartButtonEl =\n",
              "            document.querySelector('#' + key + ' button');\n",
              "          quickchartButtonEl.disabled = true;  // To prevent multiple clicks.\n",
              "          quickchartButtonEl.classList.add('colab-df-spinner');\n",
              "          try {\n",
              "            const charts = await google.colab.kernel.invokeFunction(\n",
              "                'suggestCharts', [key], {});\n",
              "          } catch (error) {\n",
              "            console.error('Error during call to suggestCharts:', error);\n",
              "          }\n",
              "          quickchartButtonEl.classList.remove('colab-df-spinner');\n",
              "          quickchartButtonEl.classList.add('colab-df-quickchart-complete');\n",
              "        }\n",
              "        (() => {\n",
              "          let quickchartButtonEl =\n",
              "            document.querySelector('#df-49e1592b-59fc-43b8-9777-c07e95e92ae9 button');\n",
              "          quickchartButtonEl.style.display =\n",
              "            google.colab.kernel.accessAllowed ? 'block' : 'none';\n",
              "        })();\n",
              "      </script>\n",
              "    </div>\n",
              "\n",
              "    </div>\n",
              "  </div>\n"
            ],
            "text/plain": [
              "                                                 input  \\\n",
              "567  ivil Appeal No. 165 of 1974 etc.\\nFrom the Jud...   \n",
              "568  ivil Appeal No. 1043 of 1990.\\nFrom the Judgme...   \n",
              "569  l Appeals Nos. 1494 to 1498 of 1971.\\nAppeals ...   \n",
              "570  : Criminal Appeal No. 37 of 1991.\\nFrom the Ju...   \n",
              "571  Civil Appeal Nos. 95 and 96 of 1971.\\nFrom the...   \n",
              "\n",
              "                                                output  \\\n",
              "567  Section 7D of the Kerala Land Reforms Act, 196...   \n",
              "568  One Motilal who owned Goyal Talkies entered in...   \n",
              "569  In pursuance of an agreement between the asses...   \n",
              "570  Respondent No. 1 is a firm dealing in medicine...   \n",
              "571  By an order dated 31st December, 1968, the sal...   \n",
              "\n",
              "                                           instruction  \\\n",
              "567  Case judgements represent rulings issued by ju...   \n",
              "568  Case judgements represent rulings issued by ju...   \n",
              "569  Case judgements represent rulings issued by ju...   \n",
              "570  Case judgements represent rulings issued by ju...   \n",
              "571  Case judgements represent rulings issued by ju...   \n",
              "\n",
              "                                             input_ids  \\\n",
              "567  [128000, 286, 21883, 374, 459, 7754, 430, 1696...   \n",
              "568  [128000, 286, 21883, 374, 459, 7754, 430, 1696...   \n",
              "569  [128000, 286, 21883, 374, 459, 7754, 430, 1696...   \n",
              "570  [128000, 286, 21883, 374, 459, 7754, 430, 1696...   \n",
              "571  [128000, 286, 21883, 374, 459, 7754, 430, 1696...   \n",
              "\n",
              "                                        attention_mask  \n",
              "567  [1, 1, 1, 1, 1, 1, 1, 1, 1, 1, 1, 1, 1, 1, 1, ...  \n",
              "568  [1, 1, 1, 1, 1, 1, 1, 1, 1, 1, 1, 1, 1, 1, 1, ...  \n",
              "569  [1, 1, 1, 1, 1, 1, 1, 1, 1, 1, 1, 1, 1, 1, 1, ...  \n",
              "570  [1, 1, 1, 1, 1, 1, 1, 1, 1, 1, 1, 1, 1, 1, 1, ...  \n",
              "571  [1, 1, 1, 1, 1, 1, 1, 1, 1, 1, 1, 1, 1, 1, 1, ...  "
            ]
          },
          "execution_count": 21,
          "metadata": {},
          "output_type": "execute_result"
        }
      ],
      "source": [
        "if not os.path.isfile(TEST_FILE_DIR):\n",
        "  split_ds['test'] = split_ds['test'].map(lambda entry: tokenize_entry(entry, use_output=False), batched=True)\n",
        "  split_ds['test'].to_csv(TEST_FILE_DIR)\n",
        "\n",
        "test_df = pd.read_csv(TEST_FILE_DIR)\n",
        "tokenized_test_entries = tokenize_entry(test_df, use_output=False)\n",
        "test_df['input_ids'] = tokenized_test_entries['input_ids']\n",
        "test_df['attention_mask'] = tokenized_test_entries['attention_mask']\n",
        "\n",
        "if os.path.exists(HEADNOTES_OUTPUT_DIR):\n",
        "  num_processed = len(pd.read_csv(HEADNOTES_OUTPUT_DIR))\n",
        "else:\n",
        "  num_processed = 0\n",
        "\n",
        "test_df = test_df.iloc[num_processed:]\n",
        "print(f'Number of records left to process: {len(test_df)}')\n",
        "test_df.head()"
      ]
    },
    {
      "cell_type": "code",
      "execution_count": null,
      "id": "gwvjJ8pehm6i",
      "metadata": {
        "colab": {
          "base_uri": "https://localhost:8080/",
          "referenced_widgets": [
            "9057b19df47f4c19a22b10313ba61703",
            "9cbb64d99ca9431f9839614611e12f00",
            "b51ccbdcdb1e476298c10f92de76199a",
            "09b86c8e62a7433bb89d83554907dff0",
            "852fa2e0c76f4edea8f120e58ee75e4e",
            "408de944131a41e28be701bbb4644ddb",
            "452b97219a3549f3838f81f3b1255bd8",
            "adefd8adec494ea0bc64ff301cec325c",
            "d8582c3e19ee4609ba80e0953f4ec9e9",
            "2f373ee0d86542b59ff75045f03d09ad",
            "07b93ef8a6774d308ba6b91a2ac2174f"
          ]
        },
        "collapsed": true,
        "id": "gwvjJ8pehm6i",
        "outputId": "64c1a414-2c62-4411-fc63-9b16588506a5"
      },
      "outputs": [
        {
          "data": {
            "application/vnd.jupyter.widget-view+json": {
              "model_id": "9057b19df47f4c19a22b10313ba61703",
              "version_major": 2,
              "version_minor": 0
            },
            "text/plain": [
              "Loading checkpoint shards:   0%|          | 0/4 [00:00<?, ?it/s]"
            ]
          },
          "metadata": {},
          "output_type": "display_data"
        }
      ],
      "source": [
        "trained_model = AutoPeftModelForCausalLM.from_pretrained(f'{OUTPUT_DIR}', torch_dtype=torch.bfloat16, device_map=\"auto\")"
      ]
    },
    {
      "cell_type": "code",
      "execution_count": null,
      "id": "3ogPMg3mVT5N",
      "metadata": {
        "id": "3ogPMg3mVT5N"
      },
      "outputs": [],
      "source": [
        "def append_to_csv(entries):\n",
        "    if not os.path.exists(HEADNOTES_OUTPUT_DIR):\n",
        "      entries = [['Judgement', 'Test Headnote', 'Generated Headnote']] + entries\n",
        "    with open(HEADNOTES_OUTPUT_DIR, 'a') as file:\n",
        "        writer = csv.writer(file)\n",
        "        writer.writerows(entries)"
      ]
    },
    {
      "cell_type": "code",
      "execution_count": null,
      "id": "gveKEN-UxEYw",
      "metadata": {
        "id": "gveKEN-UxEYw"
      },
      "outputs": [],
      "source": [
        "def clean_headnote(headnote):\n",
        "  # remove prompt and extra headings, as eos token doesn't always work\n",
        "  headnote = headnote.split('### Response:')[1].split('###')[0]\n",
        "\n",
        "  # remove last sentence if its not complete - this is a naive approach but works in most cases\n",
        "  last_seen_period = headnote.rfind('.')\n",
        "  if last_seen_period != len(headnote) - 1:\n",
        "    headnote = headnote[:last_seen_period+1]\n",
        "\n",
        "  # double spacing issues\n",
        "  headnote = re.sub(r'\\s{2,}', ' ', headnote)\n",
        "\n",
        "  # handle new lines - if there is a \\n but it does not precede a Capital letter and does not succeed a period then replace with a space\n",
        "  headnote = re.sub(r'(?<![^0-9]\\.)\\n|(?<=\\.)\\n(?![A-Z])', ' ', headnote)\n",
        "\n",
        "  # random HELD words\n",
        "  headnote = re.sub('HELD', 'held', headnote)\n",
        "  headnote = re.sub('^HELD', 'held', headnote)\n",
        "\n",
        "  # fix spelling mistakes\n",
        "  headnote_words = headnote.split()\n",
        "  for i in range(len(headnote_words) - 1):\n",
        "    left_word = headnote_words[i]\n",
        "    right_word = headnote_words[i+1]\n",
        "    if left_word.lower() not in correct_words and right_word.lower() not in correct_words and left_word.lower()+right_word.lower() in correct_words:\n",
        "      headnote = re.sub(f'{left_word} {right_word}', f'{left_word}{right_word}', headnote)\n",
        "\n",
        "  # last-minute cleaning\n",
        "  return headnote.strip()"
      ]
    },
    {
      "cell_type": "code",
      "execution_count": null,
      "id": "DIG8KuSJYrlF",
      "metadata": {
        "colab": {
          "background_save": true,
          "base_uri": "https://localhost:8080/",
          "height": 49,
          "referenced_widgets": [
            "d8be811171894500a4c6f060ff923e44",
            "29856243bece4818adf82cecd52528a5",
            "7abf0ba4634948988259c2ed1f5b212d",
            "ddc2b9f0f21f4ecaa623fe2b4689c1d6",
            "df3fab4e880943589e0acc143d376de8",
            "46417accdb354105823af444141864d1",
            "8a24b4ab10474050802313d62ee77b4f",
            "95560d4f32524e6898fe1521d19fe904",
            "2bce80a5a2234e8fb402bde090649749",
            "c8c166341f2f46169d44f91f6a0b7bb9",
            "65c4702888704afe9cabadb343cf8bb7"
          ]
        },
        "id": "DIG8KuSJYrlF",
        "outputId": "a5edb8f1-3b46-4198-cdce-488a3bf1ce4a"
      },
      "outputs": [
        {
          "data": {
            "application/vnd.jupyter.widget-view+json": {
              "model_id": "d8be811171894500a4c6f060ff923e44",
              "version_major": 2,
              "version_minor": 0
            },
            "text/plain": [
              "  0%|          | 0/130 [00:00<?, ?it/s]"
            ]
          },
          "metadata": {},
          "output_type": "display_data"
        }
      ],
      "source": [
        "for index, row in tqdm(test_df.iterrows(), total=test_df.shape[0]):\n",
        "  input_ids = torch.tensor(row['input_ids']).unsqueeze(0).to(\"cuda\")\n",
        "  attention_mask = torch.tensor(row['attention_mask']).unsqueeze(0).to(\"cuda\")\n",
        "\n",
        "  # use beam v/s greedy or sampling for generation technique\n",
        "  outputs = trained_model.generate(\n",
        "      input_ids=input_ids,\n",
        "      attention_mask=attention_mask,\n",
        "      max_new_tokens=1000,\n",
        "      pad_token_id=tokenizer.pad_token_id,\n",
        "      eos_token_id=[tokenizer.eos_token_id, tokenizer.convert_tokens_to_ids('###')],\n",
        "      repetition_penalty=1.5,\n",
        "      no_repeat_ngram_size=4,\n",
        "      num_beams=4,\n",
        "      length_penalty=1.2\n",
        "  )\n",
        "\n",
        "  generated_headnote = tokenizer.batch_decode(outputs.detach().cpu().numpy(), skip_special_tokens=True)[0]\n",
        "  generated_headnote = clean_headnote(generated_headnote)\n",
        "  append_to_csv([[row['input'], row['output'], generated_headnote]])"
      ]
    },
    {
      "cell_type": "markdown",
      "id": "VHiiEstK0Ajo",
      "metadata": {
        "id": "VHiiEstK0Ajo"
      },
      "source": [
        "## Evaluate the Model"
      ]
    },
    {
      "cell_type": "code",
      "execution_count": null,
      "id": "SOTofn0UAeZt",
      "metadata": {
        "colab": {
          "background_save": true,
          "referenced_widgets": [
            "25461b00529849729f3e061b77fa16d4",
            "b5a83fde72cf4a51b9746512d474074e",
            "98bcf3964efe4234b89869064c1acb98",
            "5759d11de50d4397940f8c56aae1c6fe",
            "b93652cde0e645a7afca40cc5f947a74",
            "0e2d826c11f8453d9a159b2ec9c8a5cd"
          ]
        },
        "id": "SOTofn0UAeZt",
        "outputId": "483f8f8c-6ed2-4972-f7af-0bc1d237b5be"
      },
      "outputs": [
        {
          "data": {
            "application/vnd.jupyter.widget-view+json": {
              "model_id": "25461b00529849729f3e061b77fa16d4",
              "version_major": 2,
              "version_minor": 0
            },
            "text/plain": [
              "tokenizer_config.json:   0%|          | 0.00/25.0 [00:00<?, ?B/s]"
            ]
          },
          "metadata": {},
          "output_type": "display_data"
        },
        {
          "data": {
            "application/vnd.jupyter.widget-view+json": {
              "model_id": "b5a83fde72cf4a51b9746512d474074e",
              "version_major": 2,
              "version_minor": 0
            },
            "text/plain": [
              "config.json:   0%|          | 0.00/482 [00:00<?, ?B/s]"
            ]
          },
          "metadata": {},
          "output_type": "display_data"
        },
        {
          "data": {
            "application/vnd.jupyter.widget-view+json": {
              "model_id": "98bcf3964efe4234b89869064c1acb98",
              "version_major": 2,
              "version_minor": 0
            },
            "text/plain": [
              "vocab.json:   0%|          | 0.00/899k [00:00<?, ?B/s]"
            ]
          },
          "metadata": {},
          "output_type": "display_data"
        },
        {
          "data": {
            "application/vnd.jupyter.widget-view+json": {
              "model_id": "5759d11de50d4397940f8c56aae1c6fe",
              "version_major": 2,
              "version_minor": 0
            },
            "text/plain": [
              "merges.txt:   0%|          | 0.00/456k [00:00<?, ?B/s]"
            ]
          },
          "metadata": {},
          "output_type": "display_data"
        },
        {
          "data": {
            "application/vnd.jupyter.widget-view+json": {
              "model_id": "b93652cde0e645a7afca40cc5f947a74",
              "version_major": 2,
              "version_minor": 0
            },
            "text/plain": [
              "tokenizer.json:   0%|          | 0.00/1.36M [00:00<?, ?B/s]"
            ]
          },
          "metadata": {},
          "output_type": "display_data"
        },
        {
          "data": {
            "application/vnd.jupyter.widget-view+json": {
              "model_id": "0e2d826c11f8453d9a159b2ec9c8a5cd",
              "version_major": 2,
              "version_minor": 0
            },
            "text/plain": [
              "model.safetensors:   0%|          | 0.00/1.42G [00:00<?, ?B/s]"
            ]
          },
          "metadata": {},
          "output_type": "display_data"
        },
        {
          "name": "stderr",
          "output_type": "stream",
          "text": [
            "Some weights of RobertaModel were not initialized from the model checkpoint at roberta-large and are newly initialized: ['pooler.dense.bias', 'pooler.dense.weight']\n",
            "You should probably TRAIN this model on a down-stream task to be able to use it for predictions and inference.\n"
          ]
        },
        {
          "name": "stdout",
          "output_type": "stream",
          "text": [
            "0.4947482873001264 0.8563605178377378 0.10598238431802125\n"
          ]
        }
      ],
      "source": [
        "avg_rougeLsum_score = 0\n",
        "avg_bert_f1_score = 0\n",
        "avg_bleu_score = 0\n",
        "test_df_results = pd.read_csv(HEADNOTES_OUTPUT_DIR)\n",
        "\n",
        "for idx, row in test_df_results.iterrows():\n",
        "  test_headnote = row['Test Headnote']\n",
        "  generated_headnote = row['Generated Headnote']\n",
        "\n",
        "  avg_rougeLsum_score += rouge_score.compute(predictions=[generated_headnote], references=[test_headnote])['rougeLsum']\n",
        "  avg_bert_f1_score += bert_score.compute(predictions=[generated_headnote], references=[test_headnote], lang=\"en\")['f1'][0]\n",
        "  avg_bleu_score += bleu_score.compute(predictions=[generated_headnote], references=[test_headnote])['bleu']\n",
        "\n",
        "avg_rougeLsum_score /= len(test_df_results)\n",
        "avg_bert_f1_score /= len(test_df_results)\n",
        "avg_bleu_score /= len(test_df_results)\n",
        "\n",
        "print(avg_rougeLsum_score, avg_bert_f1_score, avg_bleu_score)"
      ]
    }
  ],
  "metadata": {
    "accelerator": "GPU",
    "colab": {
      "collapsed_sections": [
        "3a187643",
        "dB9OmVYmDAcH",
        "7fa6b1ba",
        "72f684af",
        "mJOyX4YPeN1q",
        "VHiiEstK0Ajo"
      ],
      "gpuType": "A100",
      "machine_shape": "hm",
      "provenance": []
    },
    "kernelspec": {
      "display_name": "Python 3",
      "name": "python3"
    },
    "language_info": {
      "codemirror_mode": {
        "name": "ipython",
        "version": 3
      },
      "file_extension": ".py",
      "mimetype": "text/x-python",
      "name": "python",
      "nbconvert_exporter": "python",
      "pygments_lexer": "ipython3",
      "version": "3.9.6"
    },
    "widgets": {
      "application/vnd.jupyter.widget-state+json": {
        "07b93ef8a6774d308ba6b91a2ac2174f": {
          "model_module": "@jupyter-widgets/controls",
          "model_module_version": "1.5.0",
          "model_name": "DescriptionStyleModel",
          "state": {
            "_model_module": "@jupyter-widgets/controls",
            "_model_module_version": "1.5.0",
            "_model_name": "DescriptionStyleModel",
            "_view_count": null,
            "_view_module": "@jupyter-widgets/base",
            "_view_module_version": "1.2.0",
            "_view_name": "StyleView",
            "description_width": ""
          }
        },
        "09b86c8e62a7433bb89d83554907dff0": {
          "model_module": "@jupyter-widgets/controls",
          "model_module_version": "1.5.0",
          "model_name": "HTMLModel",
          "state": {
            "_dom_classes": [],
            "_model_module": "@jupyter-widgets/controls",
            "_model_module_version": "1.5.0",
            "_model_name": "HTMLModel",
            "_view_count": null,
            "_view_module": "@jupyter-widgets/controls",
            "_view_module_version": "1.5.0",
            "_view_name": "HTMLView",
            "description": "",
            "description_tooltip": null,
            "layout": "IPY_MODEL_2f373ee0d86542b59ff75045f03d09ad",
            "placeholder": "​",
            "style": "IPY_MODEL_07b93ef8a6774d308ba6b91a2ac2174f",
            "value": " 4/4 [00:05&lt;00:00,  1.12s/it]"
          }
        },
        "29856243bece4818adf82cecd52528a5": {
          "model_module": "@jupyter-widgets/controls",
          "model_module_version": "1.5.0",
          "model_name": "HTMLModel",
          "state": {
            "_dom_classes": [],
            "_model_module": "@jupyter-widgets/controls",
            "_model_module_version": "1.5.0",
            "_model_name": "HTMLModel",
            "_view_count": null,
            "_view_module": "@jupyter-widgets/controls",
            "_view_module_version": "1.5.0",
            "_view_name": "HTMLView",
            "description": "",
            "description_tooltip": null,
            "layout": "IPY_MODEL_46417accdb354105823af444141864d1",
            "placeholder": "​",
            "style": "IPY_MODEL_8a24b4ab10474050802313d62ee77b4f",
            "value": "  0%"
          }
        },
        "2bce80a5a2234e8fb402bde090649749": {
          "model_module": "@jupyter-widgets/controls",
          "model_module_version": "1.5.0",
          "model_name": "ProgressStyleModel",
          "state": {
            "_model_module": "@jupyter-widgets/controls",
            "_model_module_version": "1.5.0",
            "_model_name": "ProgressStyleModel",
            "_view_count": null,
            "_view_module": "@jupyter-widgets/base",
            "_view_module_version": "1.2.0",
            "_view_name": "StyleView",
            "bar_color": null,
            "description_width": ""
          }
        },
        "2f373ee0d86542b59ff75045f03d09ad": {
          "model_module": "@jupyter-widgets/base",
          "model_module_version": "1.2.0",
          "model_name": "LayoutModel",
          "state": {
            "_model_module": "@jupyter-widgets/base",
            "_model_module_version": "1.2.0",
            "_model_name": "LayoutModel",
            "_view_count": null,
            "_view_module": "@jupyter-widgets/base",
            "_view_module_version": "1.2.0",
            "_view_name": "LayoutView",
            "align_content": null,
            "align_items": null,
            "align_self": null,
            "border": null,
            "bottom": null,
            "display": null,
            "flex": null,
            "flex_flow": null,
            "grid_area": null,
            "grid_auto_columns": null,
            "grid_auto_flow": null,
            "grid_auto_rows": null,
            "grid_column": null,
            "grid_gap": null,
            "grid_row": null,
            "grid_template_areas": null,
            "grid_template_columns": null,
            "grid_template_rows": null,
            "height": null,
            "justify_content": null,
            "justify_items": null,
            "left": null,
            "margin": null,
            "max_height": null,
            "max_width": null,
            "min_height": null,
            "min_width": null,
            "object_fit": null,
            "object_position": null,
            "order": null,
            "overflow": null,
            "overflow_x": null,
            "overflow_y": null,
            "padding": null,
            "right": null,
            "top": null,
            "visibility": null,
            "width": null
          }
        },
        "408de944131a41e28be701bbb4644ddb": {
          "model_module": "@jupyter-widgets/base",
          "model_module_version": "1.2.0",
          "model_name": "LayoutModel",
          "state": {
            "_model_module": "@jupyter-widgets/base",
            "_model_module_version": "1.2.0",
            "_model_name": "LayoutModel",
            "_view_count": null,
            "_view_module": "@jupyter-widgets/base",
            "_view_module_version": "1.2.0",
            "_view_name": "LayoutView",
            "align_content": null,
            "align_items": null,
            "align_self": null,
            "border": null,
            "bottom": null,
            "display": null,
            "flex": null,
            "flex_flow": null,
            "grid_area": null,
            "grid_auto_columns": null,
            "grid_auto_flow": null,
            "grid_auto_rows": null,
            "grid_column": null,
            "grid_gap": null,
            "grid_row": null,
            "grid_template_areas": null,
            "grid_template_columns": null,
            "grid_template_rows": null,
            "height": null,
            "justify_content": null,
            "justify_items": null,
            "left": null,
            "margin": null,
            "max_height": null,
            "max_width": null,
            "min_height": null,
            "min_width": null,
            "object_fit": null,
            "object_position": null,
            "order": null,
            "overflow": null,
            "overflow_x": null,
            "overflow_y": null,
            "padding": null,
            "right": null,
            "top": null,
            "visibility": null,
            "width": null
          }
        },
        "452b97219a3549f3838f81f3b1255bd8": {
          "model_module": "@jupyter-widgets/controls",
          "model_module_version": "1.5.0",
          "model_name": "DescriptionStyleModel",
          "state": {
            "_model_module": "@jupyter-widgets/controls",
            "_model_module_version": "1.5.0",
            "_model_name": "DescriptionStyleModel",
            "_view_count": null,
            "_view_module": "@jupyter-widgets/base",
            "_view_module_version": "1.2.0",
            "_view_name": "StyleView",
            "description_width": ""
          }
        },
        "46417accdb354105823af444141864d1": {
          "model_module": "@jupyter-widgets/base",
          "model_module_version": "1.2.0",
          "model_name": "LayoutModel",
          "state": {
            "_model_module": "@jupyter-widgets/base",
            "_model_module_version": "1.2.0",
            "_model_name": "LayoutModel",
            "_view_count": null,
            "_view_module": "@jupyter-widgets/base",
            "_view_module_version": "1.2.0",
            "_view_name": "LayoutView",
            "align_content": null,
            "align_items": null,
            "align_self": null,
            "border": null,
            "bottom": null,
            "display": null,
            "flex": null,
            "flex_flow": null,
            "grid_area": null,
            "grid_auto_columns": null,
            "grid_auto_flow": null,
            "grid_auto_rows": null,
            "grid_column": null,
            "grid_gap": null,
            "grid_row": null,
            "grid_template_areas": null,
            "grid_template_columns": null,
            "grid_template_rows": null,
            "height": null,
            "justify_content": null,
            "justify_items": null,
            "left": null,
            "margin": null,
            "max_height": null,
            "max_width": null,
            "min_height": null,
            "min_width": null,
            "object_fit": null,
            "object_position": null,
            "order": null,
            "overflow": null,
            "overflow_x": null,
            "overflow_y": null,
            "padding": null,
            "right": null,
            "top": null,
            "visibility": null,
            "width": null
          }
        },
        "65c4702888704afe9cabadb343cf8bb7": {
          "model_module": "@jupyter-widgets/controls",
          "model_module_version": "1.5.0",
          "model_name": "DescriptionStyleModel",
          "state": {
            "_model_module": "@jupyter-widgets/controls",
            "_model_module_version": "1.5.0",
            "_model_name": "DescriptionStyleModel",
            "_view_count": null,
            "_view_module": "@jupyter-widgets/base",
            "_view_module_version": "1.2.0",
            "_view_name": "StyleView",
            "description_width": ""
          }
        },
        "7abf0ba4634948988259c2ed1f5b212d": {
          "model_module": "@jupyter-widgets/controls",
          "model_module_version": "1.5.0",
          "model_name": "FloatProgressModel",
          "state": {
            "_dom_classes": [],
            "_model_module": "@jupyter-widgets/controls",
            "_model_module_version": "1.5.0",
            "_model_name": "FloatProgressModel",
            "_view_count": null,
            "_view_module": "@jupyter-widgets/controls",
            "_view_module_version": "1.5.0",
            "_view_name": "ProgressView",
            "bar_style": "",
            "description": "",
            "description_tooltip": null,
            "layout": "IPY_MODEL_95560d4f32524e6898fe1521d19fe904",
            "max": 130,
            "min": 0,
            "orientation": "horizontal",
            "style": "IPY_MODEL_2bce80a5a2234e8fb402bde090649749",
            "value": 0
          }
        },
        "852fa2e0c76f4edea8f120e58ee75e4e": {
          "model_module": "@jupyter-widgets/base",
          "model_module_version": "1.2.0",
          "model_name": "LayoutModel",
          "state": {
            "_model_module": "@jupyter-widgets/base",
            "_model_module_version": "1.2.0",
            "_model_name": "LayoutModel",
            "_view_count": null,
            "_view_module": "@jupyter-widgets/base",
            "_view_module_version": "1.2.0",
            "_view_name": "LayoutView",
            "align_content": null,
            "align_items": null,
            "align_self": null,
            "border": null,
            "bottom": null,
            "display": null,
            "flex": null,
            "flex_flow": null,
            "grid_area": null,
            "grid_auto_columns": null,
            "grid_auto_flow": null,
            "grid_auto_rows": null,
            "grid_column": null,
            "grid_gap": null,
            "grid_row": null,
            "grid_template_areas": null,
            "grid_template_columns": null,
            "grid_template_rows": null,
            "height": null,
            "justify_content": null,
            "justify_items": null,
            "left": null,
            "margin": null,
            "max_height": null,
            "max_width": null,
            "min_height": null,
            "min_width": null,
            "object_fit": null,
            "object_position": null,
            "order": null,
            "overflow": null,
            "overflow_x": null,
            "overflow_y": null,
            "padding": null,
            "right": null,
            "top": null,
            "visibility": null,
            "width": null
          }
        },
        "8a24b4ab10474050802313d62ee77b4f": {
          "model_module": "@jupyter-widgets/controls",
          "model_module_version": "1.5.0",
          "model_name": "DescriptionStyleModel",
          "state": {
            "_model_module": "@jupyter-widgets/controls",
            "_model_module_version": "1.5.0",
            "_model_name": "DescriptionStyleModel",
            "_view_count": null,
            "_view_module": "@jupyter-widgets/base",
            "_view_module_version": "1.2.0",
            "_view_name": "StyleView",
            "description_width": ""
          }
        },
        "9057b19df47f4c19a22b10313ba61703": {
          "model_module": "@jupyter-widgets/controls",
          "model_module_version": "1.5.0",
          "model_name": "HBoxModel",
          "state": {
            "_dom_classes": [],
            "_model_module": "@jupyter-widgets/controls",
            "_model_module_version": "1.5.0",
            "_model_name": "HBoxModel",
            "_view_count": null,
            "_view_module": "@jupyter-widgets/controls",
            "_view_module_version": "1.5.0",
            "_view_name": "HBoxView",
            "box_style": "",
            "children": [
              "IPY_MODEL_9cbb64d99ca9431f9839614611e12f00",
              "IPY_MODEL_b51ccbdcdb1e476298c10f92de76199a",
              "IPY_MODEL_09b86c8e62a7433bb89d83554907dff0"
            ],
            "layout": "IPY_MODEL_852fa2e0c76f4edea8f120e58ee75e4e"
          }
        },
        "95560d4f32524e6898fe1521d19fe904": {
          "model_module": "@jupyter-widgets/base",
          "model_module_version": "1.2.0",
          "model_name": "LayoutModel",
          "state": {
            "_model_module": "@jupyter-widgets/base",
            "_model_module_version": "1.2.0",
            "_model_name": "LayoutModel",
            "_view_count": null,
            "_view_module": "@jupyter-widgets/base",
            "_view_module_version": "1.2.0",
            "_view_name": "LayoutView",
            "align_content": null,
            "align_items": null,
            "align_self": null,
            "border": null,
            "bottom": null,
            "display": null,
            "flex": null,
            "flex_flow": null,
            "grid_area": null,
            "grid_auto_columns": null,
            "grid_auto_flow": null,
            "grid_auto_rows": null,
            "grid_column": null,
            "grid_gap": null,
            "grid_row": null,
            "grid_template_areas": null,
            "grid_template_columns": null,
            "grid_template_rows": null,
            "height": null,
            "justify_content": null,
            "justify_items": null,
            "left": null,
            "margin": null,
            "max_height": null,
            "max_width": null,
            "min_height": null,
            "min_width": null,
            "object_fit": null,
            "object_position": null,
            "order": null,
            "overflow": null,
            "overflow_x": null,
            "overflow_y": null,
            "padding": null,
            "right": null,
            "top": null,
            "visibility": null,
            "width": null
          }
        },
        "9cbb64d99ca9431f9839614611e12f00": {
          "model_module": "@jupyter-widgets/controls",
          "model_module_version": "1.5.0",
          "model_name": "HTMLModel",
          "state": {
            "_dom_classes": [],
            "_model_module": "@jupyter-widgets/controls",
            "_model_module_version": "1.5.0",
            "_model_name": "HTMLModel",
            "_view_count": null,
            "_view_module": "@jupyter-widgets/controls",
            "_view_module_version": "1.5.0",
            "_view_name": "HTMLView",
            "description": "",
            "description_tooltip": null,
            "layout": "IPY_MODEL_408de944131a41e28be701bbb4644ddb",
            "placeholder": "​",
            "style": "IPY_MODEL_452b97219a3549f3838f81f3b1255bd8",
            "value": "Loading checkpoint shards: 100%"
          }
        },
        "adefd8adec494ea0bc64ff301cec325c": {
          "model_module": "@jupyter-widgets/base",
          "model_module_version": "1.2.0",
          "model_name": "LayoutModel",
          "state": {
            "_model_module": "@jupyter-widgets/base",
            "_model_module_version": "1.2.0",
            "_model_name": "LayoutModel",
            "_view_count": null,
            "_view_module": "@jupyter-widgets/base",
            "_view_module_version": "1.2.0",
            "_view_name": "LayoutView",
            "align_content": null,
            "align_items": null,
            "align_self": null,
            "border": null,
            "bottom": null,
            "display": null,
            "flex": null,
            "flex_flow": null,
            "grid_area": null,
            "grid_auto_columns": null,
            "grid_auto_flow": null,
            "grid_auto_rows": null,
            "grid_column": null,
            "grid_gap": null,
            "grid_row": null,
            "grid_template_areas": null,
            "grid_template_columns": null,
            "grid_template_rows": null,
            "height": null,
            "justify_content": null,
            "justify_items": null,
            "left": null,
            "margin": null,
            "max_height": null,
            "max_width": null,
            "min_height": null,
            "min_width": null,
            "object_fit": null,
            "object_position": null,
            "order": null,
            "overflow": null,
            "overflow_x": null,
            "overflow_y": null,
            "padding": null,
            "right": null,
            "top": null,
            "visibility": null,
            "width": null
          }
        },
        "b51ccbdcdb1e476298c10f92de76199a": {
          "model_module": "@jupyter-widgets/controls",
          "model_module_version": "1.5.0",
          "model_name": "FloatProgressModel",
          "state": {
            "_dom_classes": [],
            "_model_module": "@jupyter-widgets/controls",
            "_model_module_version": "1.5.0",
            "_model_name": "FloatProgressModel",
            "_view_count": null,
            "_view_module": "@jupyter-widgets/controls",
            "_view_module_version": "1.5.0",
            "_view_name": "ProgressView",
            "bar_style": "success",
            "description": "",
            "description_tooltip": null,
            "layout": "IPY_MODEL_adefd8adec494ea0bc64ff301cec325c",
            "max": 4,
            "min": 0,
            "orientation": "horizontal",
            "style": "IPY_MODEL_d8582c3e19ee4609ba80e0953f4ec9e9",
            "value": 4
          }
        },
        "c8c166341f2f46169d44f91f6a0b7bb9": {
          "model_module": "@jupyter-widgets/base",
          "model_module_version": "1.2.0",
          "model_name": "LayoutModel",
          "state": {
            "_model_module": "@jupyter-widgets/base",
            "_model_module_version": "1.2.0",
            "_model_name": "LayoutModel",
            "_view_count": null,
            "_view_module": "@jupyter-widgets/base",
            "_view_module_version": "1.2.0",
            "_view_name": "LayoutView",
            "align_content": null,
            "align_items": null,
            "align_self": null,
            "border": null,
            "bottom": null,
            "display": null,
            "flex": null,
            "flex_flow": null,
            "grid_area": null,
            "grid_auto_columns": null,
            "grid_auto_flow": null,
            "grid_auto_rows": null,
            "grid_column": null,
            "grid_gap": null,
            "grid_row": null,
            "grid_template_areas": null,
            "grid_template_columns": null,
            "grid_template_rows": null,
            "height": null,
            "justify_content": null,
            "justify_items": null,
            "left": null,
            "margin": null,
            "max_height": null,
            "max_width": null,
            "min_height": null,
            "min_width": null,
            "object_fit": null,
            "object_position": null,
            "order": null,
            "overflow": null,
            "overflow_x": null,
            "overflow_y": null,
            "padding": null,
            "right": null,
            "top": null,
            "visibility": null,
            "width": null
          }
        },
        "d8582c3e19ee4609ba80e0953f4ec9e9": {
          "model_module": "@jupyter-widgets/controls",
          "model_module_version": "1.5.0",
          "model_name": "ProgressStyleModel",
          "state": {
            "_model_module": "@jupyter-widgets/controls",
            "_model_module_version": "1.5.0",
            "_model_name": "ProgressStyleModel",
            "_view_count": null,
            "_view_module": "@jupyter-widgets/base",
            "_view_module_version": "1.2.0",
            "_view_name": "StyleView",
            "bar_color": null,
            "description_width": ""
          }
        },
        "d8be811171894500a4c6f060ff923e44": {
          "model_module": "@jupyter-widgets/controls",
          "model_module_version": "1.5.0",
          "model_name": "HBoxModel",
          "state": {
            "_dom_classes": [],
            "_model_module": "@jupyter-widgets/controls",
            "_model_module_version": "1.5.0",
            "_model_name": "HBoxModel",
            "_view_count": null,
            "_view_module": "@jupyter-widgets/controls",
            "_view_module_version": "1.5.0",
            "_view_name": "HBoxView",
            "box_style": "",
            "children": [
              "IPY_MODEL_29856243bece4818adf82cecd52528a5",
              "IPY_MODEL_7abf0ba4634948988259c2ed1f5b212d",
              "IPY_MODEL_ddc2b9f0f21f4ecaa623fe2b4689c1d6"
            ],
            "layout": "IPY_MODEL_df3fab4e880943589e0acc143d376de8"
          }
        },
        "ddc2b9f0f21f4ecaa623fe2b4689c1d6": {
          "model_module": "@jupyter-widgets/controls",
          "model_module_version": "1.5.0",
          "model_name": "HTMLModel",
          "state": {
            "_dom_classes": [],
            "_model_module": "@jupyter-widgets/controls",
            "_model_module_version": "1.5.0",
            "_model_name": "HTMLModel",
            "_view_count": null,
            "_view_module": "@jupyter-widgets/controls",
            "_view_module_version": "1.5.0",
            "_view_name": "HTMLView",
            "description": "",
            "description_tooltip": null,
            "layout": "IPY_MODEL_c8c166341f2f46169d44f91f6a0b7bb9",
            "placeholder": "​",
            "style": "IPY_MODEL_65c4702888704afe9cabadb343cf8bb7",
            "value": " 0/130 [00:00&lt;?, ?it/s]"
          }
        },
        "df3fab4e880943589e0acc143d376de8": {
          "model_module": "@jupyter-widgets/base",
          "model_module_version": "1.2.0",
          "model_name": "LayoutModel",
          "state": {
            "_model_module": "@jupyter-widgets/base",
            "_model_module_version": "1.2.0",
            "_model_name": "LayoutModel",
            "_view_count": null,
            "_view_module": "@jupyter-widgets/base",
            "_view_module_version": "1.2.0",
            "_view_name": "LayoutView",
            "align_content": null,
            "align_items": null,
            "align_self": null,
            "border": null,
            "bottom": null,
            "display": null,
            "flex": null,
            "flex_flow": null,
            "grid_area": null,
            "grid_auto_columns": null,
            "grid_auto_flow": null,
            "grid_auto_rows": null,
            "grid_column": null,
            "grid_gap": null,
            "grid_row": null,
            "grid_template_areas": null,
            "grid_template_columns": null,
            "grid_template_rows": null,
            "height": null,
            "justify_content": null,
            "justify_items": null,
            "left": null,
            "margin": null,
            "max_height": null,
            "max_width": null,
            "min_height": null,
            "min_width": null,
            "object_fit": null,
            "object_position": null,
            "order": null,
            "overflow": null,
            "overflow_x": null,
            "overflow_y": null,
            "padding": null,
            "right": null,
            "top": null,
            "visibility": null,
            "width": null
          }
        }
      }
    }
  },
  "nbformat": 4,
  "nbformat_minor": 5
}